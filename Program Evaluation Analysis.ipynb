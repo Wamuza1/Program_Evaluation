{
 "cells": [
  {
   "cell_type": "code",
   "execution_count": 60,
   "id": "acec3be0",
   "metadata": {},
   "outputs": [
    {
     "name": "stdout",
     "output_type": "stream",
     "text": [
      "Populating the interactive namespace from numpy and matplotlib\n"
     ]
    }
   ],
   "source": [
    "# Loading libraries for python\n",
    "%matplotlib inline\n",
    "%pylab inline\n",
    "\n",
    "\n",
    "import numpy as np # Linear algebra\n",
    "import pandas as pd # Data processing, CSV file I/O (e.g. pd.read_csv)\n",
    "import matplotlib.pyplot as plt # Data visualization\n",
    "import seaborn as sns # Advanced data visualization\n",
    "import re # Regular expressions for advanced string selection\n",
    "import missingno as msno # Advanced missing values handling\n",
    "import pandas_profiling # Advanced exploratory data analysis\n",
    "from scipy import stats # Advanced statistical library\n",
    "sns.set()\n",
    "from pylab import rcParams\n",
    "from scipy import stats # statistical operations\n",
    "import warnings\n",
    "warnings.filterwarnings(\"ignore\");\n",
    "\n",
    "# changing graph style following best practices from Storyteling with Data from Cole Knaflic [3]\n",
    "sns.set(font_scale=2.5);\n",
    "sns.set_style(\"whitegrid\");"
   ]
  },
  {
   "cell_type": "code",
   "execution_count": 61,
   "id": "e40bd86d",
   "metadata": {},
   "outputs": [],
   "source": [
    "# Reading data parsing dates in correct format for users DataFrame\n",
    "engagement = pd.read_csv(\"Resources/engagement.csv\")\n",
    "users = pd.read_csv(\"resources/users.csv\", parse_dates=['registration'], infer_datetime_format=True)"
   ]
  },
  {
   "cell_type": "markdown",
   "id": "b66f6a37",
   "metadata": {},
   "source": [
    "# EDA"
   ]
  },
  {
   "cell_type": "code",
   "execution_count": 62,
   "id": "030361ae",
   "metadata": {},
   "outputs": [
    {
     "data": {
      "text/html": [
       "<div>\n",
       "<style scoped>\n",
       "    .dataframe tbody tr th:only-of-type {\n",
       "        vertical-align: middle;\n",
       "    }\n",
       "\n",
       "    .dataframe tbody tr th {\n",
       "        vertical-align: top;\n",
       "    }\n",
       "\n",
       "    .dataframe thead th {\n",
       "        text-align: right;\n",
       "    }\n",
       "</style>\n",
       "<table border=\"1\" class=\"dataframe\">\n",
       "  <thead>\n",
       "    <tr style=\"text-align: right;\">\n",
       "      <th></th>\n",
       "      <th>browser</th>\n",
       "      <th>program</th>\n",
       "      <th>hrs_per_week</th>\n",
       "    </tr>\n",
       "  </thead>\n",
       "  <tbody>\n",
       "    <tr>\n",
       "      <th>count</th>\n",
       "      <td>88874</td>\n",
       "      <td>88874</td>\n",
       "      <td>88874.000000</td>\n",
       "    </tr>\n",
       "    <tr>\n",
       "      <th>unique</th>\n",
       "      <td>5</td>\n",
       "      <td>2</td>\n",
       "      <td>NaN</td>\n",
       "    </tr>\n",
       "    <tr>\n",
       "      <th>top</th>\n",
       "      <td>Chrome</td>\n",
       "      <td>drip</td>\n",
       "      <td>NaN</td>\n",
       "    </tr>\n",
       "    <tr>\n",
       "      <th>freq</th>\n",
       "      <td>38626</td>\n",
       "      <td>44503</td>\n",
       "      <td>NaN</td>\n",
       "    </tr>\n",
       "    <tr>\n",
       "      <th>mean</th>\n",
       "      <td>NaN</td>\n",
       "      <td>NaN</td>\n",
       "      <td>4.601871</td>\n",
       "    </tr>\n",
       "    <tr>\n",
       "      <th>std</th>\n",
       "      <td>NaN</td>\n",
       "      <td>NaN</td>\n",
       "      <td>2.529182</td>\n",
       "    </tr>\n",
       "    <tr>\n",
       "      <th>min</th>\n",
       "      <td>NaN</td>\n",
       "      <td>NaN</td>\n",
       "      <td>0.000000</td>\n",
       "    </tr>\n",
       "    <tr>\n",
       "      <th>25%</th>\n",
       "      <td>NaN</td>\n",
       "      <td>NaN</td>\n",
       "      <td>2.700000</td>\n",
       "    </tr>\n",
       "    <tr>\n",
       "      <th>50%</th>\n",
       "      <td>NaN</td>\n",
       "      <td>NaN</td>\n",
       "      <td>4.510000</td>\n",
       "    </tr>\n",
       "    <tr>\n",
       "      <th>75%</th>\n",
       "      <td>NaN</td>\n",
       "      <td>NaN</td>\n",
       "      <td>6.300000</td>\n",
       "    </tr>\n",
       "    <tr>\n",
       "      <th>max</th>\n",
       "      <td>NaN</td>\n",
       "      <td>NaN</td>\n",
       "      <td>17.230000</td>\n",
       "    </tr>\n",
       "  </tbody>\n",
       "</table>\n",
       "</div>"
      ],
      "text/plain": [
       "       browser program  hrs_per_week\n",
       "count    88874   88874  88874.000000\n",
       "unique       5       2           NaN\n",
       "top     Chrome    drip           NaN\n",
       "freq     38626   44503           NaN\n",
       "mean       NaN     NaN      4.601871\n",
       "std        NaN     NaN      2.529182\n",
       "min        NaN     NaN      0.000000\n",
       "25%        NaN     NaN      2.700000\n",
       "50%        NaN     NaN      4.510000\n",
       "75%        NaN     NaN      6.300000\n",
       "max        NaN     NaN     17.230000"
      ]
     },
     "execution_count": 62,
     "metadata": {},
     "output_type": "execute_result"
    }
   ],
   "source": [
    "engagement.describe(include=\"all\").drop(['user_id'], axis=1)"
   ]
  },
  {
   "cell_type": "code",
   "execution_count": 63,
   "id": "cffe54e4",
   "metadata": {},
   "outputs": [
    {
     "data": {
      "image/png": "[encoded data removed]",
      "text/plain": [
       "<Figure size 720x576 with 1 Axes>"
      ]
     },
     "metadata": {},
     "output_type": "display_data"
    }
   ],
   "source": [
    "# Let's have a macro view of the hours per week by program\n",
    "fig1 = sns.boxplot(x='program', y='hrs_per_week', data=engagement);\n",
    "\n",
    "# All visualizations will follow a similar styling following best practices from Storytelling with Data [3][8][9]\n",
    "fig1 = plt.gcf()\n",
    "fig1.set_size_inches(10, 8)\n",
    "plt.title('Hours per week by program', loc='left', y=1.1);\n",
    "plt.ylabel(\"Hours per week [hrs]\");\n",
    "plt.xlabel(\"Program type\");\n",
    "plt.text(-0.5, 18.5, \"Note that median values are similar, but the Binge program has larger variance.\\nAlso, Binge has more 'extreme users' denoted by the observed outliers and max value.\", fontsize=16, color='grey', style='italic', weight='semibold',);\n",
    "plt.plot();"
   ]
  },
  {
   "cell_type": "code",
   "execution_count": 64,
   "id": "dcd7e02b",
   "metadata": {},
   "outputs": [
    {
     "data": {
      "text/html": [
       "<div>\n",
       "<style scoped>\n",
       "    .dataframe tbody tr th:only-of-type {\n",
       "        vertical-align: middle;\n",
       "    }\n",
       "\n",
       "    .dataframe tbody tr th {\n",
       "        vertical-align: top;\n",
       "    }\n",
       "\n",
       "    .dataframe thead th {\n",
       "        text-align: right;\n",
       "    }\n",
       "</style>\n",
       "<table border=\"1\" class=\"dataframe\">\n",
       "  <thead>\n",
       "    <tr style=\"text-align: right;\">\n",
       "      <th></th>\n",
       "      <th>hrs_per_week</th>\n",
       "    </tr>\n",
       "    <tr>\n",
       "      <th>program</th>\n",
       "      <th></th>\n",
       "    </tr>\n",
       "  </thead>\n",
       "  <tbody>\n",
       "    <tr>\n",
       "      <th>binge</th>\n",
       "      <td>4.605888</td>\n",
       "    </tr>\n",
       "    <tr>\n",
       "      <th>drip</th>\n",
       "      <td>4.597865</td>\n",
       "    </tr>\n",
       "  </tbody>\n",
       "</table>\n",
       "</div>"
      ],
      "text/plain": [
       "         hrs_per_week\n",
       "program              \n",
       "binge        4.605888\n",
       "drip         4.597865"
      ]
     },
     "execution_count": 64,
     "metadata": {},
     "output_type": "execute_result"
    }
   ],
   "source": [
    "# Checking mean hours per week per program\n",
    "engagement.groupby(['program']).mean()[['hrs_per_week']]"
   ]
  },
  {
   "cell_type": "code",
   "execution_count": 65,
   "id": "b50e4e46",
   "metadata": {},
   "outputs": [
    {
     "data": {
      "text/html": [
       "<div>\n",
       "<style scoped>\n",
       "    .dataframe tbody tr th:only-of-type {\n",
       "        vertical-align: middle;\n",
       "    }\n",
       "\n",
       "    .dataframe tbody tr th {\n",
       "        vertical-align: top;\n",
       "    }\n",
       "\n",
       "    .dataframe thead th {\n",
       "        text-align: right;\n",
       "    }\n",
       "</style>\n",
       "<table border=\"1\" class=\"dataframe\">\n",
       "  <thead>\n",
       "    <tr style=\"text-align: right;\">\n",
       "      <th></th>\n",
       "      <th>user_id</th>\n",
       "      <th>browser</th>\n",
       "      <th>program</th>\n",
       "      <th>hrs_per_week</th>\n",
       "      <th>registration</th>\n",
       "      <th>country</th>\n",
       "      <th>year</th>\n",
       "    </tr>\n",
       "  </thead>\n",
       "  <tbody>\n",
       "    <tr>\n",
       "      <th>0</th>\n",
       "      <td>769245</td>\n",
       "      <td>IE</td>\n",
       "      <td>binge</td>\n",
       "      <td>4.91</td>\n",
       "      <td>2015-11-20</td>\n",
       "      <td>Germany</td>\n",
       "      <td>2015</td>\n",
       "    </tr>\n",
       "    <tr>\n",
       "      <th>1</th>\n",
       "      <td>21650570</td>\n",
       "      <td>Safari</td>\n",
       "      <td>binge</td>\n",
       "      <td>3.97</td>\n",
       "      <td>2016-01-12</td>\n",
       "      <td>France</td>\n",
       "      <td>2016</td>\n",
       "    </tr>\n",
       "    <tr>\n",
       "      <th>2</th>\n",
       "      <td>91760162</td>\n",
       "      <td>Chrome</td>\n",
       "      <td>drip</td>\n",
       "      <td>3.55</td>\n",
       "      <td>2016-03-21</td>\n",
       "      <td>France</td>\n",
       "      <td>2016</td>\n",
       "    </tr>\n",
       "    <tr>\n",
       "      <th>3</th>\n",
       "      <td>90748752</td>\n",
       "      <td>Chrome</td>\n",
       "      <td>drip</td>\n",
       "      <td>5.46</td>\n",
       "      <td>2016-03-17</td>\n",
       "      <td>France</td>\n",
       "      <td>2016</td>\n",
       "    </tr>\n",
       "    <tr>\n",
       "      <th>4</th>\n",
       "      <td>66876824</td>\n",
       "      <td>Chrome</td>\n",
       "      <td>binge</td>\n",
       "      <td>3.87</td>\n",
       "      <td>2016-04-01</td>\n",
       "      <td>Germany</td>\n",
       "      <td>2016</td>\n",
       "    </tr>\n",
       "    <tr>\n",
       "      <th>...</th>\n",
       "      <td>...</td>\n",
       "      <td>...</td>\n",
       "      <td>...</td>\n",
       "      <td>...</td>\n",
       "      <td>...</td>\n",
       "      <td>...</td>\n",
       "      <td>...</td>\n",
       "    </tr>\n",
       "    <tr>\n",
       "      <th>88869</th>\n",
       "      <td>77712477</td>\n",
       "      <td>Chrome</td>\n",
       "      <td>drip</td>\n",
       "      <td>3.96</td>\n",
       "      <td>2016-03-01</td>\n",
       "      <td>France</td>\n",
       "      <td>2016</td>\n",
       "    </tr>\n",
       "    <tr>\n",
       "      <th>88870</th>\n",
       "      <td>71724217</td>\n",
       "      <td>Safari</td>\n",
       "      <td>drip</td>\n",
       "      <td>3.73</td>\n",
       "      <td>2016-05-06</td>\n",
       "      <td>Germany</td>\n",
       "      <td>2016</td>\n",
       "    </tr>\n",
       "    <tr>\n",
       "      <th>88871</th>\n",
       "      <td>69155165</td>\n",
       "      <td>Chrome</td>\n",
       "      <td>drip</td>\n",
       "      <td>2.98</td>\n",
       "      <td>2015-11-02</td>\n",
       "      <td>Germany</td>\n",
       "      <td>2015</td>\n",
       "    </tr>\n",
       "    <tr>\n",
       "      <th>88872</th>\n",
       "      <td>34336713</td>\n",
       "      <td>Opera</td>\n",
       "      <td>binge</td>\n",
       "      <td>0.24</td>\n",
       "      <td>2016-06-02</td>\n",
       "      <td>Germany</td>\n",
       "      <td>2016</td>\n",
       "    </tr>\n",
       "    <tr>\n",
       "      <th>88873</th>\n",
       "      <td>7523887</td>\n",
       "      <td>Firefox</td>\n",
       "      <td>binge</td>\n",
       "      <td>4.19</td>\n",
       "      <td>2016-01-21</td>\n",
       "      <td>Germany</td>\n",
       "      <td>2016</td>\n",
       "    </tr>\n",
       "  </tbody>\n",
       "</table>\n",
       "<p>88874 rows × 7 columns</p>\n",
       "</div>"
      ],
      "text/plain": [
       "        user_id  browser program  hrs_per_week registration  country  year\n",
       "0        769245       IE   binge          4.91   2015-11-20  Germany  2015\n",
       "1      21650570   Safari   binge          3.97   2016-01-12   France  2016\n",
       "2      91760162   Chrome    drip          3.55   2016-03-21   France  2016\n",
       "3      90748752   Chrome    drip          5.46   2016-03-17   France  2016\n",
       "4      66876824   Chrome   binge          3.87   2016-04-01  Germany  2016\n",
       "...         ...      ...     ...           ...          ...      ...   ...\n",
       "88869  77712477   Chrome    drip          3.96   2016-03-01   France  2016\n",
       "88870  71724217   Safari    drip          3.73   2016-05-06  Germany  2016\n",
       "88871  69155165   Chrome    drip          2.98   2015-11-02  Germany  2015\n",
       "88872  34336713    Opera   binge          0.24   2016-06-02  Germany  2016\n",
       "88873   7523887  Firefox   binge          4.19   2016-01-21  Germany  2016\n",
       "\n",
       "[88874 rows x 7 columns]"
      ]
     },
     "execution_count": 65,
     "metadata": {},
     "output_type": "execute_result"
    }
   ],
   "source": [
    "# Joining the tables on User_ID for hrs_per_week by country and checking by possible nulls\n",
    "# Merging on user_is and adding a simple year column for aggregations\n",
    "df = pd.merge(engagement, users, on='user_id')\n",
    "df['year'] = df.registration.dt.year\n",
    "df\n",
    "# Checking for null values and exploring further using missingno library\n",
    "#df.isnull().sum()\n",
    "#msno.bar(df);"
   ]
  },
  {
   "cell_type": "markdown",
   "id": "9a4d8d6a",
   "metadata": {},
   "source": [
    "# checking missing values"
   ]
  },
  {
   "cell_type": "code",
   "execution_count": 66,
   "id": "67a4bba1",
   "metadata": {},
   "outputs": [
    {
     "data": {
      "text/plain": [
       "user_id         0\n",
       "browser         0\n",
       "program         0\n",
       "hrs_per_week    0\n",
       "registration    0\n",
       "country         0\n",
       "year            0\n",
       "dtype: int64"
      ]
     },
     "execution_count": 66,
     "metadata": {},
     "output_type": "execute_result"
    }
   ],
   "source": [
    "df.isnull().sum()"
   ]
  },
  {
   "cell_type": "code",
   "execution_count": 67,
   "id": "7acb7de7",
   "metadata": {},
   "outputs": [
    {
     "data": {
      "image/png": "[encoded data removed]",
      "text/plain": [
       "<Figure size 1800x720 with 3 Axes>"
      ]
     },
     "metadata": {},
     "output_type": "display_data"
    }
   ],
   "source": [
    "\n",
    "msno.bar(df);"
   ]
  },
  {
   "cell_type": "markdown",
   "id": "a4277965",
   "metadata": {},
   "source": [
    "# Comparing Both Program"
   ]
  },
  {
   "cell_type": "code",
   "execution_count": 68,
   "id": "8c2ed66d",
   "metadata": {},
   "outputs": [
    {
     "data": {
      "image/png": "[encoded data removed]",
      "text/plain": [
       "<Figure size 1008x576 with 1 Axes>"
      ]
     },
     "metadata": {},
     "output_type": "display_data"
    }
   ],
   "source": [
    "# Checking engagement distribution for the entire sample (both programs)\n",
    "fig, ax = plt.subplots()\n",
    "fig = sns.distplot(df.hrs_per_week, kde=False)\n",
    "fig.grid(False)\n",
    "fig = plt.gcf()\n",
    "fig.set_size_inches(14, 8)\n",
    "plt.title(\"Distribution of hours per week for the entire sample (both programs)\", loc=\"left\", y=1.1, fontsize=20);\n",
    "plt.text(-0.8, 5350, \"Note that the proportion of users that used the platform between 0 and 1 hour is very significant\", fontsize=16, color='grey', style='italic', weight='semibold',);\n",
    "plt.ylabel(\"User count\");\n",
    "plt.xlabel(\"Hours per week [h]\");\n",
    "sns.despine(left=False);\n",
    "ax.annotate('window shoppers', xy=(0.2, 2700), xytext=(0.6, 3700), fontsize=11,\n",
    "            arrowprops=dict(facecolor='black', shrink=0.05));\n",
    "plt.plot();"
   ]
  },
  {
   "cell_type": "code",
   "execution_count": 69,
   "id": "676af0f4",
   "metadata": {},
   "outputs": [
    {
     "data": {
      "text/html": [
       "<div>\n",
       "<style scoped>\n",
       "    .dataframe tbody tr th:only-of-type {\n",
       "        vertical-align: middle;\n",
       "    }\n",
       "\n",
       "    .dataframe tbody tr th {\n",
       "        vertical-align: top;\n",
       "    }\n",
       "\n",
       "    .dataframe thead tr th {\n",
       "        text-align: left;\n",
       "    }\n",
       "\n",
       "    .dataframe thead tr:last-of-type th {\n",
       "        text-align: right;\n",
       "    }\n",
       "</style>\n",
       "<table border=\"1\" class=\"dataframe\">\n",
       "  <thead>\n",
       "    <tr>\n",
       "      <th></th>\n",
       "      <th></th>\n",
       "      <th colspan=\"2\" halign=\"left\">hrs_per_week</th>\n",
       "    </tr>\n",
       "    <tr>\n",
       "      <th></th>\n",
       "      <th></th>\n",
       "      <th>mean</th>\n",
       "      <th>std</th>\n",
       "    </tr>\n",
       "    <tr>\n",
       "      <th>country</th>\n",
       "      <th>program</th>\n",
       "      <th></th>\n",
       "      <th></th>\n",
       "    </tr>\n",
       "  </thead>\n",
       "  <tbody>\n",
       "    <tr>\n",
       "      <th rowspan=\"2\" valign=\"top\">France</th>\n",
       "      <th>binge</th>\n",
       "      <td>4.596582</td>\n",
       "      <td>2.759918</td>\n",
       "    </tr>\n",
       "    <tr>\n",
       "      <th>drip</th>\n",
       "      <td>4.592999</td>\n",
       "      <td>2.261194</td>\n",
       "    </tr>\n",
       "    <tr>\n",
       "      <th rowspan=\"2\" valign=\"top\">Germany</th>\n",
       "      <th>binge</th>\n",
       "      <td>4.622154</td>\n",
       "      <td>2.764568</td>\n",
       "    </tr>\n",
       "    <tr>\n",
       "      <th>drip</th>\n",
       "      <td>4.599495</td>\n",
       "      <td>2.274150</td>\n",
       "    </tr>\n",
       "    <tr>\n",
       "      <th rowspan=\"2\" valign=\"top\">Italy</th>\n",
       "      <th>binge</th>\n",
       "      <td>4.544733</td>\n",
       "      <td>2.778293</td>\n",
       "    </tr>\n",
       "    <tr>\n",
       "      <th>drip</th>\n",
       "      <td>4.611353</td>\n",
       "      <td>2.302292</td>\n",
       "    </tr>\n",
       "  </tbody>\n",
       "</table>\n",
       "</div>"
      ],
      "text/plain": [
       "                hrs_per_week          \n",
       "                        mean       std\n",
       "country program                       \n",
       "France  binge       4.596582  2.759918\n",
       "        drip        4.592999  2.261194\n",
       "Germany binge       4.622154  2.764568\n",
       "        drip        4.599495  2.274150\n",
       "Italy   binge       4.544733  2.778293\n",
       "        drip        4.611353  2.302292"
      ]
     },
     "execution_count": 69,
     "metadata": {},
     "output_type": "execute_result"
    }
   ],
   "source": [
    "# User distributions per country\n",
    "# Not much of a difference on the aggregate view;\n",
    "# On the granular view (by program by country), we have once again the conclusion of extreme users in favor to the Binge program;\n",
    "# However, still on the granular view, all medians are higher for the Drip program while standard deviations are lower, indicating a more regular community.\n",
    "df.groupby(['country', 'program']).agg({'hrs_per_week':[np.mean, np.std]})"
   ]
  },
  {
   "cell_type": "code",
   "execution_count": 70,
   "id": "e910c7bb",
   "metadata": {},
   "outputs": [
    {
     "data": {
      "image/png": "[encoded data removed]",
      "text/plain": [
       "<Figure size 720x576 with 1 Axes>"
      ]
     },
     "metadata": {},
     "output_type": "display_data"
    }
   ],
   "source": [
    "# Let's check the program distribution for the given period\n",
    "sns.countplot(x='year', hue='program', data=df);\n",
    "fig2 = plt.gcf()\n",
    "fig2.set_size_inches(10, 8)\n",
    "plt.title('Registrations per year for each program', loc=\"left\", y=1.1);\n",
    "plt.text(-0.5, 37000, 'Most of the experiment happend during 2016, and data is balanced for the given period', fontsize=16, color='grey', style='italic', weight='semibold',);\n",
    "plt.legend(loc=0);\n",
    "plt.ylabel(\"Count of registrations\");\n",
    "plt.xlabel(\"Year\");\n",
    "plt.plot();"
   ]
  },
  {
   "cell_type": "code",
   "execution_count": 71,
   "id": "28ee0e59",
   "metadata": {},
   "outputs": [
    {
     "data": {
      "text/html": [
       "<div>\n",
       "<style scoped>\n",
       "    .dataframe tbody tr th:only-of-type {\n",
       "        vertical-align: middle;\n",
       "    }\n",
       "\n",
       "    .dataframe tbody tr th {\n",
       "        vertical-align: top;\n",
       "    }\n",
       "\n",
       "    .dataframe thead tr th {\n",
       "        text-align: left;\n",
       "    }\n",
       "\n",
       "    .dataframe thead tr:last-of-type th {\n",
       "        text-align: right;\n",
       "    }\n",
       "</style>\n",
       "<table border=\"1\" class=\"dataframe\">\n",
       "  <thead>\n",
       "    <tr>\n",
       "      <th></th>\n",
       "      <th></th>\n",
       "      <th colspan=\"3\" halign=\"left\">registration</th>\n",
       "    </tr>\n",
       "    <tr>\n",
       "      <th></th>\n",
       "      <th>year</th>\n",
       "      <th>2015</th>\n",
       "      <th>2016</th>\n",
       "      <th>All</th>\n",
       "    </tr>\n",
       "    <tr>\n",
       "      <th>country</th>\n",
       "      <th>program</th>\n",
       "      <th></th>\n",
       "      <th></th>\n",
       "      <th></th>\n",
       "    </tr>\n",
       "  </thead>\n",
       "  <tbody>\n",
       "    <tr>\n",
       "      <th rowspan=\"2\" valign=\"top\">France</th>\n",
       "      <th>binge</th>\n",
       "      <td>4199</td>\n",
       "      <td>13413</td>\n",
       "      <td>17612</td>\n",
       "    </tr>\n",
       "    <tr>\n",
       "      <th>drip</th>\n",
       "      <td>4222</td>\n",
       "      <td>13531</td>\n",
       "      <td>17753</td>\n",
       "    </tr>\n",
       "    <tr>\n",
       "      <th rowspan=\"2\" valign=\"top\">Germany</th>\n",
       "      <th>binge</th>\n",
       "      <td>5478</td>\n",
       "      <td>17776</td>\n",
       "      <td>23254</td>\n",
       "    </tr>\n",
       "    <tr>\n",
       "      <th>drip</th>\n",
       "      <td>5492</td>\n",
       "      <td>17652</td>\n",
       "      <td>23144</td>\n",
       "    </tr>\n",
       "    <tr>\n",
       "      <th rowspan=\"2\" valign=\"top\">Italy</th>\n",
       "      <th>binge</th>\n",
       "      <td>867</td>\n",
       "      <td>2638</td>\n",
       "      <td>3505</td>\n",
       "    </tr>\n",
       "    <tr>\n",
       "      <th>drip</th>\n",
       "      <td>868</td>\n",
       "      <td>2738</td>\n",
       "      <td>3606</td>\n",
       "    </tr>\n",
       "    <tr>\n",
       "      <th>All</th>\n",
       "      <th></th>\n",
       "      <td>21126</td>\n",
       "      <td>67748</td>\n",
       "      <td>88874</td>\n",
       "    </tr>\n",
       "  </tbody>\n",
       "</table>\n",
       "</div>"
      ],
      "text/plain": [
       "                registration              \n",
       "year                    2015   2016    All\n",
       "country program                           \n",
       "France  binge           4199  13413  17612\n",
       "        drip            4222  13531  17753\n",
       "Germany binge           5478  17776  23254\n",
       "        drip            5492  17652  23144\n",
       "Italy   binge            867   2638   3505\n",
       "        drip             868   2738   3606\n",
       "All                    21126  67748  88874"
      ]
     },
     "execution_count": 71,
     "metadata": {},
     "output_type": "execute_result"
    }
   ],
   "source": [
    "# Checking the distribution of registered users throughout the period of analysis\n",
    "pivot_table = pd.pivot_table(df, index=['country', 'program'], columns='year', aggfunc=np.count_nonzero, values=['registration'], margins=True, )\n",
    "pivot_table\n",
    "\n",
    "# Distribution of registered users by country throughout the period of analysis\n",
    "#sns.catplot('country', col=\"year\", col_wrap=2, hue='program', data=df, kind=\"count\", height=11, aspect=.6);"
   ]
  },
  {
   "cell_type": "code",
   "execution_count": 72,
   "id": "ee661803",
   "metadata": {},
   "outputs": [],
   "source": [
    "# drip = df1.loc[df1['program'] != 'binge']\n",
    "# binge = df1.loc[df1['program'] == 'binge']"
   ]
  },
  {
   "cell_type": "code",
   "execution_count": 73,
   "id": "ffdb33db",
   "metadata": {},
   "outputs": [
    {
     "data": {
      "image/png": "[encoded data removed]",
      "text/plain": [
       "<Figure size 1152x720 with 2 Axes>"
      ]
     },
     "metadata": {},
     "output_type": "display_data"
    }
   ],
   "source": [
    "# Histograms for both program types so we can see how many \"window shoppers\" each one had before eliminating them\n",
    "\n",
    "bins = [0, 1, 2, 3, 4, 5, 6, 7, 8, 9, 10, 11, 12, 13, 14, 15]\n",
    "fig, ax = plt.subplots(1, 2)\n",
    "df.loc[(df.program == 'binge') & (df.country == 'Germany'), ['hrs_per_week']].hist(bins=bins, ax=ax[0]);\n",
    "df.loc[(df.program == 'drip') & (df.country == 'Germany'), ['hrs_per_week']].hist(bins=bins, ax=ax[1]);\n",
    "ax[0].set_ylim([0, 4200])\n",
    "ax[0].set_title(\"Binge distribution\")\n",
    "ax[0].grid(False)\n",
    "ax[1].set_ylim([0, 4200])\n",
    "ax[1].set_title(\"Drip distribution\")\n",
    "ax[1].grid(False)\n",
    "for i in ax.flat:\n",
    "    i.set(xlabel='Hours per week [h]', ylabel='Count of users')\n",
    "fig.suptitle(\"Distribution of hours per week by program for Germany\", fontsize=28, x=0.465, y=1.03);\n",
    "plt.text(-22, 4550, \"Note that the majority of 'window shoppers' were on the Binge program, \\nsuch behavior is seens proportionally for France and Italy as well.\", fontsize=16, color='grey', style='italic', weight='semibold',);\n",
    "fig.set_size_inches(16, 10)\n",
    "plt.plot();"
   ]
  },
  {
   "cell_type": "code",
   "execution_count": 74,
   "id": "9582e7d5",
   "metadata": {},
   "outputs": [
    {
     "data": {
      "text/html": [
       "<div>\n",
       "<style scoped>\n",
       "    .dataframe tbody tr th:only-of-type {\n",
       "        vertical-align: middle;\n",
       "    }\n",
       "\n",
       "    .dataframe tbody tr th {\n",
       "        vertical-align: top;\n",
       "    }\n",
       "\n",
       "    .dataframe thead tr th {\n",
       "        text-align: left;\n",
       "    }\n",
       "\n",
       "    .dataframe thead tr:last-of-type th {\n",
       "        text-align: right;\n",
       "    }\n",
       "</style>\n",
       "<table border=\"1\" class=\"dataframe\">\n",
       "  <thead>\n",
       "    <tr>\n",
       "      <th></th>\n",
       "      <th colspan=\"2\" halign=\"left\">hrs_per_week</th>\n",
       "      <th>registration</th>\n",
       "    </tr>\n",
       "    <tr>\n",
       "      <th></th>\n",
       "      <th>mean</th>\n",
       "      <th>std.dev</th>\n",
       "      <th>sample size (n)</th>\n",
       "    </tr>\n",
       "    <tr>\n",
       "      <th>program</th>\n",
       "      <th></th>\n",
       "      <th></th>\n",
       "      <th></th>\n",
       "    </tr>\n",
       "  </thead>\n",
       "  <tbody>\n",
       "    <tr>\n",
       "      <th>binge</th>\n",
       "      <td>4.976966</td>\n",
       "      <td>2.582060</td>\n",
       "      <td>40683</td>\n",
       "    </tr>\n",
       "    <tr>\n",
       "      <th>drip</th>\n",
       "      <td>4.857204</td>\n",
       "      <td>2.071311</td>\n",
       "      <td>41955</td>\n",
       "    </tr>\n",
       "  </tbody>\n",
       "</table>\n",
       "</div>"
      ],
      "text/plain": [
       "        hrs_per_week              registration\n",
       "                mean   std.dev sample size (n)\n",
       "program                                       \n",
       "binge       4.976966  2.582060           40683\n",
       "drip        4.857204  2.071311           41955"
      ]
     },
     "execution_count": 74,
     "metadata": {},
     "output_type": "execute_result"
    }
   ],
   "source": [
    "# Checking summary statistics between programs after removing window shoppers\n",
    "df_eval0 = df.loc[df.hrs_per_week > 1].groupby(['program']).agg({'hrs_per_week':[np.mean, np.std], 'registration':np.count_nonzero})\n",
    "df_eval0.columns.set_levels(['sample size (n)','mean','std.dev'],level=1,inplace=True)\n",
    "df_eval0"
   ]
  },
  {
   "cell_type": "code",
   "execution_count": 75,
   "id": "6af24056",
   "metadata": {},
   "outputs": [
    {
     "data": {
      "text/html": [
       "<div>\n",
       "<style scoped>\n",
       "    .dataframe tbody tr th:only-of-type {\n",
       "        vertical-align: middle;\n",
       "    }\n",
       "\n",
       "    .dataframe tbody tr th {\n",
       "        vertical-align: top;\n",
       "    }\n",
       "\n",
       "    .dataframe thead tr th {\n",
       "        text-align: left;\n",
       "    }\n",
       "\n",
       "    .dataframe thead tr:last-of-type th {\n",
       "        text-align: right;\n",
       "    }\n",
       "</style>\n",
       "<table border=\"1\" class=\"dataframe\">\n",
       "  <thead>\n",
       "    <tr>\n",
       "      <th></th>\n",
       "      <th></th>\n",
       "      <th colspan=\"2\" halign=\"left\">hrs_per_week</th>\n",
       "      <th>registration</th>\n",
       "    </tr>\n",
       "    <tr>\n",
       "      <th></th>\n",
       "      <th></th>\n",
       "      <th>mean</th>\n",
       "      <th>std.dev</th>\n",
       "      <th>sample size (n)</th>\n",
       "    </tr>\n",
       "    <tr>\n",
       "      <th>country</th>\n",
       "      <th>program</th>\n",
       "      <th></th>\n",
       "      <th></th>\n",
       "      <th></th>\n",
       "    </tr>\n",
       "  </thead>\n",
       "  <tbody>\n",
       "    <tr>\n",
       "      <th rowspan=\"2\" valign=\"top\">France</th>\n",
       "      <th>binge</th>\n",
       "      <td>4.973187</td>\n",
       "      <td>2.574976</td>\n",
       "      <td>16126</td>\n",
       "    </tr>\n",
       "    <tr>\n",
       "      <th>drip</th>\n",
       "      <td>4.845466</td>\n",
       "      <td>2.066307</td>\n",
       "      <td>16760</td>\n",
       "    </tr>\n",
       "    <tr>\n",
       "      <th rowspan=\"2\" valign=\"top\">Germany</th>\n",
       "      <th>binge</th>\n",
       "      <td>4.986529</td>\n",
       "      <td>2.585866</td>\n",
       "      <td>21357</td>\n",
       "    </tr>\n",
       "    <tr>\n",
       "      <th>drip</th>\n",
       "      <td>4.860439</td>\n",
       "      <td>2.073344</td>\n",
       "      <td>21811</td>\n",
       "    </tr>\n",
       "    <tr>\n",
       "      <th rowspan=\"2\" valign=\"top\">Italy</th>\n",
       "      <th>binge</th>\n",
       "      <td>4.932188</td>\n",
       "      <td>2.592560</td>\n",
       "      <td>3200</td>\n",
       "    </tr>\n",
       "    <tr>\n",
       "      <th>drip</th>\n",
       "      <td>4.894489</td>\n",
       "      <td>2.083022</td>\n",
       "      <td>3384</td>\n",
       "    </tr>\n",
       "  </tbody>\n",
       "</table>\n",
       "</div>"
      ],
      "text/plain": [
       "                hrs_per_week              registration\n",
       "                        mean   std.dev sample size (n)\n",
       "country program                                       \n",
       "France  binge       4.973187  2.574976           16126\n",
       "        drip        4.845466  2.066307           16760\n",
       "Germany binge       4.986529  2.585866           21357\n",
       "        drip        4.860439  2.073344           21811\n",
       "Italy   binge       4.932188  2.592560            3200\n",
       "        drip        4.894489  2.083022            3384"
      ]
     },
     "execution_count": 75,
     "metadata": {},
     "output_type": "execute_result"
    }
   ],
   "source": [
    "# Checking summary statistics between programs for every country after removing window shoppers\n",
    "df_eval1 = df.loc[df.hrs_per_week > 1].groupby(['country', 'program']).agg({'hrs_per_week':[np.mean, np.std], 'registration':np.count_nonzero})\n",
    "df_eval1.columns.set_levels(['sample size (n)','mean','std.dev'],level=1,inplace=True)\n",
    "df_eval1"
   ]
  },
  {
   "cell_type": "markdown",
   "id": "2b53adef",
   "metadata": {},
   "source": [
    "# 0utliers"
   ]
  },
  {
   "cell_type": "code",
   "execution_count": 76,
   "id": "8c3a2492",
   "metadata": {},
   "outputs": [
    {
     "data": {
      "text/html": [
       "<div>\n",
       "<style scoped>\n",
       "    .dataframe tbody tr th:only-of-type {\n",
       "        vertical-align: middle;\n",
       "    }\n",
       "\n",
       "    .dataframe tbody tr th {\n",
       "        vertical-align: top;\n",
       "    }\n",
       "\n",
       "    .dataframe thead th {\n",
       "        text-align: right;\n",
       "    }\n",
       "</style>\n",
       "<table border=\"1\" class=\"dataframe\">\n",
       "  <thead>\n",
       "    <tr style=\"text-align: right;\">\n",
       "      <th></th>\n",
       "      <th>user_id</th>\n",
       "      <th>browser</th>\n",
       "      <th>program</th>\n",
       "      <th>hrs_per_week</th>\n",
       "      <th>registration</th>\n",
       "      <th>country</th>\n",
       "      <th>year</th>\n",
       "    </tr>\n",
       "  </thead>\n",
       "  <tbody>\n",
       "    <tr>\n",
       "      <th>0</th>\n",
       "      <td>769245</td>\n",
       "      <td>IE</td>\n",
       "      <td>binge</td>\n",
       "      <td>4.91</td>\n",
       "      <td>2015-11-20</td>\n",
       "      <td>Germany</td>\n",
       "      <td>2015</td>\n",
       "    </tr>\n",
       "    <tr>\n",
       "      <th>1</th>\n",
       "      <td>21650570</td>\n",
       "      <td>Safari</td>\n",
       "      <td>binge</td>\n",
       "      <td>3.97</td>\n",
       "      <td>2016-01-12</td>\n",
       "      <td>France</td>\n",
       "      <td>2016</td>\n",
       "    </tr>\n",
       "    <tr>\n",
       "      <th>2</th>\n",
       "      <td>91760162</td>\n",
       "      <td>Chrome</td>\n",
       "      <td>drip</td>\n",
       "      <td>3.55</td>\n",
       "      <td>2016-03-21</td>\n",
       "      <td>France</td>\n",
       "      <td>2016</td>\n",
       "    </tr>\n",
       "    <tr>\n",
       "      <th>3</th>\n",
       "      <td>90748752</td>\n",
       "      <td>Chrome</td>\n",
       "      <td>drip</td>\n",
       "      <td>5.46</td>\n",
       "      <td>2016-03-17</td>\n",
       "      <td>France</td>\n",
       "      <td>2016</td>\n",
       "    </tr>\n",
       "    <tr>\n",
       "      <th>4</th>\n",
       "      <td>66876824</td>\n",
       "      <td>Chrome</td>\n",
       "      <td>binge</td>\n",
       "      <td>3.87</td>\n",
       "      <td>2016-04-01</td>\n",
       "      <td>Germany</td>\n",
       "      <td>2016</td>\n",
       "    </tr>\n",
       "    <tr>\n",
       "      <th>...</th>\n",
       "      <td>...</td>\n",
       "      <td>...</td>\n",
       "      <td>...</td>\n",
       "      <td>...</td>\n",
       "      <td>...</td>\n",
       "      <td>...</td>\n",
       "      <td>...</td>\n",
       "    </tr>\n",
       "    <tr>\n",
       "      <th>88869</th>\n",
       "      <td>77712477</td>\n",
       "      <td>Chrome</td>\n",
       "      <td>drip</td>\n",
       "      <td>3.96</td>\n",
       "      <td>2016-03-01</td>\n",
       "      <td>France</td>\n",
       "      <td>2016</td>\n",
       "    </tr>\n",
       "    <tr>\n",
       "      <th>88870</th>\n",
       "      <td>71724217</td>\n",
       "      <td>Safari</td>\n",
       "      <td>drip</td>\n",
       "      <td>3.73</td>\n",
       "      <td>2016-05-06</td>\n",
       "      <td>Germany</td>\n",
       "      <td>2016</td>\n",
       "    </tr>\n",
       "    <tr>\n",
       "      <th>88871</th>\n",
       "      <td>69155165</td>\n",
       "      <td>Chrome</td>\n",
       "      <td>drip</td>\n",
       "      <td>2.98</td>\n",
       "      <td>2015-11-02</td>\n",
       "      <td>Germany</td>\n",
       "      <td>2015</td>\n",
       "    </tr>\n",
       "    <tr>\n",
       "      <th>88872</th>\n",
       "      <td>34336713</td>\n",
       "      <td>Opera</td>\n",
       "      <td>binge</td>\n",
       "      <td>0.24</td>\n",
       "      <td>2016-06-02</td>\n",
       "      <td>Germany</td>\n",
       "      <td>2016</td>\n",
       "    </tr>\n",
       "    <tr>\n",
       "      <th>88873</th>\n",
       "      <td>7523887</td>\n",
       "      <td>Firefox</td>\n",
       "      <td>binge</td>\n",
       "      <td>4.19</td>\n",
       "      <td>2016-01-21</td>\n",
       "      <td>Germany</td>\n",
       "      <td>2016</td>\n",
       "    </tr>\n",
       "  </tbody>\n",
       "</table>\n",
       "<p>88874 rows × 7 columns</p>\n",
       "</div>"
      ],
      "text/plain": [
       "        user_id  browser program  hrs_per_week registration  country  year\n",
       "0        769245       IE   binge          4.91   2015-11-20  Germany  2015\n",
       "1      21650570   Safari   binge          3.97   2016-01-12   France  2016\n",
       "2      91760162   Chrome    drip          3.55   2016-03-21   France  2016\n",
       "3      90748752   Chrome    drip          5.46   2016-03-17   France  2016\n",
       "4      66876824   Chrome   binge          3.87   2016-04-01  Germany  2016\n",
       "...         ...      ...     ...           ...          ...      ...   ...\n",
       "88869  77712477   Chrome    drip          3.96   2016-03-01   France  2016\n",
       "88870  71724217   Safari    drip          3.73   2016-05-06  Germany  2016\n",
       "88871  69155165   Chrome    drip          2.98   2015-11-02  Germany  2015\n",
       "88872  34336713    Opera   binge          0.24   2016-06-02  Germany  2016\n",
       "88873   7523887  Firefox   binge          4.19   2016-01-21  Germany  2016\n",
       "\n",
       "[88874 rows x 7 columns]"
      ]
     },
     "execution_count": 76,
     "metadata": {},
     "output_type": "execute_result"
    }
   ],
   "source": [
    "df"
   ]
  },
  {
   "cell_type": "code",
   "execution_count": 77,
   "id": "23562c23",
   "metadata": {},
   "outputs": [
    {
     "data": {
      "text/html": [
       "<div>\n",
       "<style scoped>\n",
       "    .dataframe tbody tr th:only-of-type {\n",
       "        vertical-align: middle;\n",
       "    }\n",
       "\n",
       "    .dataframe tbody tr th {\n",
       "        vertical-align: top;\n",
       "    }\n",
       "\n",
       "    .dataframe thead th {\n",
       "        text-align: right;\n",
       "    }\n",
       "</style>\n",
       "<table border=\"1\" class=\"dataframe\">\n",
       "  <thead>\n",
       "    <tr style=\"text-align: right;\">\n",
       "      <th></th>\n",
       "      <th>browser</th>\n",
       "      <th>program</th>\n",
       "      <th>hrs_per_week</th>\n",
       "      <th>country</th>\n",
       "    </tr>\n",
       "  </thead>\n",
       "  <tbody>\n",
       "    <tr>\n",
       "      <th>0</th>\n",
       "      <td>IE</td>\n",
       "      <td>binge</td>\n",
       "      <td>4.91</td>\n",
       "      <td>Germany</td>\n",
       "    </tr>\n",
       "    <tr>\n",
       "      <th>1</th>\n",
       "      <td>Safari</td>\n",
       "      <td>binge</td>\n",
       "      <td>3.97</td>\n",
       "      <td>France</td>\n",
       "    </tr>\n",
       "    <tr>\n",
       "      <th>2</th>\n",
       "      <td>Chrome</td>\n",
       "      <td>drip</td>\n",
       "      <td>3.55</td>\n",
       "      <td>France</td>\n",
       "    </tr>\n",
       "    <tr>\n",
       "      <th>3</th>\n",
       "      <td>Chrome</td>\n",
       "      <td>drip</td>\n",
       "      <td>5.46</td>\n",
       "      <td>France</td>\n",
       "    </tr>\n",
       "    <tr>\n",
       "      <th>4</th>\n",
       "      <td>Chrome</td>\n",
       "      <td>binge</td>\n",
       "      <td>3.87</td>\n",
       "      <td>Germany</td>\n",
       "    </tr>\n",
       "    <tr>\n",
       "      <th>...</th>\n",
       "      <td>...</td>\n",
       "      <td>...</td>\n",
       "      <td>...</td>\n",
       "      <td>...</td>\n",
       "    </tr>\n",
       "    <tr>\n",
       "      <th>88869</th>\n",
       "      <td>Chrome</td>\n",
       "      <td>drip</td>\n",
       "      <td>3.96</td>\n",
       "      <td>France</td>\n",
       "    </tr>\n",
       "    <tr>\n",
       "      <th>88870</th>\n",
       "      <td>Safari</td>\n",
       "      <td>drip</td>\n",
       "      <td>3.73</td>\n",
       "      <td>Germany</td>\n",
       "    </tr>\n",
       "    <tr>\n",
       "      <th>88871</th>\n",
       "      <td>Chrome</td>\n",
       "      <td>drip</td>\n",
       "      <td>2.98</td>\n",
       "      <td>Germany</td>\n",
       "    </tr>\n",
       "    <tr>\n",
       "      <th>88872</th>\n",
       "      <td>Opera</td>\n",
       "      <td>binge</td>\n",
       "      <td>0.24</td>\n",
       "      <td>Germany</td>\n",
       "    </tr>\n",
       "    <tr>\n",
       "      <th>88873</th>\n",
       "      <td>Firefox</td>\n",
       "      <td>binge</td>\n",
       "      <td>4.19</td>\n",
       "      <td>Germany</td>\n",
       "    </tr>\n",
       "  </tbody>\n",
       "</table>\n",
       "<p>88874 rows × 4 columns</p>\n",
       "</div>"
      ],
      "text/plain": [
       "       browser program  hrs_per_week  country\n",
       "0           IE   binge          4.91  Germany\n",
       "1       Safari   binge          3.97   France\n",
       "2       Chrome    drip          3.55   France\n",
       "3       Chrome    drip          5.46   France\n",
       "4       Chrome   binge          3.87  Germany\n",
       "...        ...     ...           ...      ...\n",
       "88869   Chrome    drip          3.96   France\n",
       "88870   Safari    drip          3.73  Germany\n",
       "88871   Chrome    drip          2.98  Germany\n",
       "88872    Opera   binge          0.24  Germany\n",
       "88873  Firefox   binge          4.19  Germany\n",
       "\n",
       "[88874 rows x 4 columns]"
      ]
     },
     "execution_count": 77,
     "metadata": {},
     "output_type": "execute_result"
    }
   ],
   "source": [
    "# drop columns User_id and year and Registration\n",
    "df1 = df.drop(['user_id','registration','year'], axis=1)\n",
    "df1"
   ]
  },
  {
   "cell_type": "code",
   "execution_count": 78,
   "id": "e3434e29",
   "metadata": {},
   "outputs": [
    {
     "data": {
      "text/plain": [
       "drip     44503\n",
       "binge    44371\n",
       "Name: program, dtype: int64"
      ]
     },
     "execution_count": 78,
     "metadata": {},
     "output_type": "execute_result"
    }
   ],
   "source": [
    "df1['program'].value_counts()# 1    44503   ,0    44371"
   ]
  },
  {
   "cell_type": "code",
   "execution_count": 79,
   "id": "5cb48c6d",
   "metadata": {},
   "outputs": [],
   "source": [
    "#df1['program'].value_counts(normalize=True)"
   ]
  },
  {
   "cell_type": "code",
   "execution_count": 80,
   "id": "b2d3168b",
   "metadata": {},
   "outputs": [
    {
     "data": {
      "image/png": "[encoded data removed]",
      "text/plain": [
       "<Figure size 432x288 with 1 Axes>"
      ]
     },
     "metadata": {},
     "output_type": "display_data"
    }
   ],
   "source": [
    "import seaborn as sns\n",
    "sns.boxplot(x = df1[\"hrs_per_week\"]);"
   ]
  },
  {
   "cell_type": "code",
   "execution_count": 83,
   "id": "d618a556",
   "metadata": {},
   "outputs": [
    {
     "name": "stdout",
     "output_type": "stream",
     "text": [
      "3.6\n"
     ]
    }
   ],
   "source": [
    "Q1 = df1.hrs_per_week.quantile(0.25)\n",
    "Q3 = df1.hrs_per_week.quantile(0.75)\n",
    "IQR = Q3-Q1\n",
    "print(round(IQR,2))"
   ]
  },
  {
   "cell_type": "code",
   "execution_count": 84,
   "id": "62ed41d1",
   "metadata": {},
   "outputs": [
    {
     "name": "stdout",
     "output_type": "stream",
     "text": [
      "-2.7\n",
      "11.7\n"
     ]
    }
   ],
   "source": [
    "lower = Q1 - 1.5*IQR\n",
    "upper = Q3 + 1.5*IQR\n",
    "print(round(lower,2))\n",
    "print(round(upper,2))"
   ]
  },
  {
   "cell_type": "code",
   "execution_count": 87,
   "id": "4cfc5343",
   "metadata": {},
   "outputs": [],
   "source": [
    "df3= df1[~((df1['hrs_per_week']<= lower) | (df1['hrs_per_week']>= upper))]"
   ]
  },
  {
   "cell_type": "code",
   "execution_count": 88,
   "id": "6c3ebce0",
   "metadata": {},
   "outputs": [
    {
     "data": {
      "image/png": "[encoded data removed]",
      "text/plain": [
       "<Figure size 432x288 with 1 Axes>"
      ]
     },
     "metadata": {},
     "output_type": "display_data"
    }
   ],
   "source": [
    "import seaborn as sns\n",
    "sns.boxplot(x = df3[\"hrs_per_week\"]);"
   ]
  },
  {
   "cell_type": "code",
   "execution_count": 90,
   "id": "f2c5bb9c",
   "metadata": {},
   "outputs": [
    {
     "data": {
      "text/html": [
       "<div>\n",
       "<style scoped>\n",
       "    .dataframe tbody tr th:only-of-type {\n",
       "        vertical-align: middle;\n",
       "    }\n",
       "\n",
       "    .dataframe tbody tr th {\n",
       "        vertical-align: top;\n",
       "    }\n",
       "\n",
       "    .dataframe thead th {\n",
       "        text-align: right;\n",
       "    }\n",
       "</style>\n",
       "<table border=\"1\" class=\"dataframe\">\n",
       "  <thead>\n",
       "    <tr style=\"text-align: right;\">\n",
       "      <th></th>\n",
       "      <th>browser</th>\n",
       "      <th>program</th>\n",
       "      <th>hrs_per_week</th>\n",
       "      <th>country</th>\n",
       "    </tr>\n",
       "  </thead>\n",
       "  <tbody>\n",
       "    <tr>\n",
       "      <th>0</th>\n",
       "      <td>IE</td>\n",
       "      <td>binge</td>\n",
       "      <td>4.91</td>\n",
       "      <td>Germany</td>\n",
       "    </tr>\n",
       "    <tr>\n",
       "      <th>1</th>\n",
       "      <td>Safari</td>\n",
       "      <td>binge</td>\n",
       "      <td>3.97</td>\n",
       "      <td>France</td>\n",
       "    </tr>\n",
       "    <tr>\n",
       "      <th>2</th>\n",
       "      <td>Chrome</td>\n",
       "      <td>drip</td>\n",
       "      <td>3.55</td>\n",
       "      <td>France</td>\n",
       "    </tr>\n",
       "    <tr>\n",
       "      <th>3</th>\n",
       "      <td>Chrome</td>\n",
       "      <td>drip</td>\n",
       "      <td>5.46</td>\n",
       "      <td>France</td>\n",
       "    </tr>\n",
       "    <tr>\n",
       "      <th>4</th>\n",
       "      <td>Chrome</td>\n",
       "      <td>binge</td>\n",
       "      <td>3.87</td>\n",
       "      <td>Germany</td>\n",
       "    </tr>\n",
       "    <tr>\n",
       "      <th>...</th>\n",
       "      <td>...</td>\n",
       "      <td>...</td>\n",
       "      <td>...</td>\n",
       "      <td>...</td>\n",
       "    </tr>\n",
       "    <tr>\n",
       "      <th>88869</th>\n",
       "      <td>Chrome</td>\n",
       "      <td>drip</td>\n",
       "      <td>3.96</td>\n",
       "      <td>France</td>\n",
       "    </tr>\n",
       "    <tr>\n",
       "      <th>88870</th>\n",
       "      <td>Safari</td>\n",
       "      <td>drip</td>\n",
       "      <td>3.73</td>\n",
       "      <td>Germany</td>\n",
       "    </tr>\n",
       "    <tr>\n",
       "      <th>88871</th>\n",
       "      <td>Chrome</td>\n",
       "      <td>drip</td>\n",
       "      <td>2.98</td>\n",
       "      <td>Germany</td>\n",
       "    </tr>\n",
       "    <tr>\n",
       "      <th>88872</th>\n",
       "      <td>Opera</td>\n",
       "      <td>binge</td>\n",
       "      <td>0.24</td>\n",
       "      <td>Germany</td>\n",
       "    </tr>\n",
       "    <tr>\n",
       "      <th>88873</th>\n",
       "      <td>Firefox</td>\n",
       "      <td>binge</td>\n",
       "      <td>4.19</td>\n",
       "      <td>Germany</td>\n",
       "    </tr>\n",
       "  </tbody>\n",
       "</table>\n",
       "<p>88385 rows × 4 columns</p>\n",
       "</div>"
      ],
      "text/plain": [
       "       browser program  hrs_per_week  country\n",
       "0           IE   binge          4.91  Germany\n",
       "1       Safari   binge          3.97   France\n",
       "2       Chrome    drip          3.55   France\n",
       "3       Chrome    drip          5.46   France\n",
       "4       Chrome   binge          3.87  Germany\n",
       "...        ...     ...           ...      ...\n",
       "88869   Chrome    drip          3.96   France\n",
       "88870   Safari    drip          3.73  Germany\n",
       "88871   Chrome    drip          2.98  Germany\n",
       "88872    Opera   binge          0.24  Germany\n",
       "88873  Firefox   binge          4.19  Germany\n",
       "\n",
       "[88385 rows x 4 columns]"
      ]
     },
     "execution_count": 90,
     "metadata": {},
     "output_type": "execute_result"
    }
   ],
   "source": [
    "df3"
   ]
  },
  {
   "cell_type": "markdown",
   "id": "f217d260",
   "metadata": {},
   "source": [
    "# Dummy variable"
   ]
  },
  {
   "cell_type": "code",
   "execution_count": 91,
   "id": "91ed0c36",
   "metadata": {},
   "outputs": [
    {
     "data": {
      "text/html": [
       "<div>\n",
       "<style scoped>\n",
       "    .dataframe tbody tr th:only-of-type {\n",
       "        vertical-align: middle;\n",
       "    }\n",
       "\n",
       "    .dataframe tbody tr th {\n",
       "        vertical-align: top;\n",
       "    }\n",
       "\n",
       "    .dataframe thead th {\n",
       "        text-align: right;\n",
       "    }\n",
       "</style>\n",
       "<table border=\"1\" class=\"dataframe\">\n",
       "  <thead>\n",
       "    <tr style=\"text-align: right;\">\n",
       "      <th></th>\n",
       "      <th>hrs_per_week</th>\n",
       "      <th>country_France</th>\n",
       "      <th>country_Germany</th>\n",
       "      <th>country_Italy</th>\n",
       "      <th>browser_Chrome</th>\n",
       "      <th>browser_Firefox</th>\n",
       "      <th>browser_IE</th>\n",
       "      <th>browser_Opera</th>\n",
       "      <th>browser_Safari</th>\n",
       "      <th>program_binge</th>\n",
       "      <th>program_drip</th>\n",
       "    </tr>\n",
       "  </thead>\n",
       "  <tbody>\n",
       "    <tr>\n",
       "      <th>0</th>\n",
       "      <td>4.91</td>\n",
       "      <td>0</td>\n",
       "      <td>1</td>\n",
       "      <td>0</td>\n",
       "      <td>0</td>\n",
       "      <td>0</td>\n",
       "      <td>1</td>\n",
       "      <td>0</td>\n",
       "      <td>0</td>\n",
       "      <td>1</td>\n",
       "      <td>0</td>\n",
       "    </tr>\n",
       "    <tr>\n",
       "      <th>1</th>\n",
       "      <td>3.97</td>\n",
       "      <td>1</td>\n",
       "      <td>0</td>\n",
       "      <td>0</td>\n",
       "      <td>0</td>\n",
       "      <td>0</td>\n",
       "      <td>0</td>\n",
       "      <td>0</td>\n",
       "      <td>1</td>\n",
       "      <td>1</td>\n",
       "      <td>0</td>\n",
       "    </tr>\n",
       "    <tr>\n",
       "      <th>2</th>\n",
       "      <td>3.55</td>\n",
       "      <td>1</td>\n",
       "      <td>0</td>\n",
       "      <td>0</td>\n",
       "      <td>1</td>\n",
       "      <td>0</td>\n",
       "      <td>0</td>\n",
       "      <td>0</td>\n",
       "      <td>0</td>\n",
       "      <td>0</td>\n",
       "      <td>1</td>\n",
       "    </tr>\n",
       "    <tr>\n",
       "      <th>3</th>\n",
       "      <td>5.46</td>\n",
       "      <td>1</td>\n",
       "      <td>0</td>\n",
       "      <td>0</td>\n",
       "      <td>1</td>\n",
       "      <td>0</td>\n",
       "      <td>0</td>\n",
       "      <td>0</td>\n",
       "      <td>0</td>\n",
       "      <td>0</td>\n",
       "      <td>1</td>\n",
       "    </tr>\n",
       "    <tr>\n",
       "      <th>4</th>\n",
       "      <td>3.87</td>\n",
       "      <td>0</td>\n",
       "      <td>1</td>\n",
       "      <td>0</td>\n",
       "      <td>1</td>\n",
       "      <td>0</td>\n",
       "      <td>0</td>\n",
       "      <td>0</td>\n",
       "      <td>0</td>\n",
       "      <td>1</td>\n",
       "      <td>0</td>\n",
       "    </tr>\n",
       "  </tbody>\n",
       "</table>\n",
       "</div>"
      ],
      "text/plain": [
       "   hrs_per_week  country_France  country_Germany  country_Italy  \\\n",
       "0          4.91               0                1              0   \n",
       "1          3.97               1                0              0   \n",
       "2          3.55               1                0              0   \n",
       "3          5.46               1                0              0   \n",
       "4          3.87               0                1              0   \n",
       "\n",
       "   browser_Chrome  browser_Firefox  browser_IE  browser_Opera  browser_Safari  \\\n",
       "0               0                0           1              0               0   \n",
       "1               0                0           0              0               1   \n",
       "2               1                0           0              0               0   \n",
       "3               1                0           0              0               0   \n",
       "4               1                0           0              0               0   \n",
       "\n",
       "   program_binge  program_drip  \n",
       "0              1             0  \n",
       "1              1             0  \n",
       "2              0             1  \n",
       "3              0             1  \n",
       "4              1             0  "
      ]
     },
     "execution_count": 91,
     "metadata": {},
     "output_type": "execute_result"
    }
   ],
   "source": [
    "df2  = pd.get_dummies(df1, columns =['country', 'browser', 'program'])\n",
    "df2.head()"
   ]
  },
  {
   "cell_type": "code",
   "execution_count": 92,
   "id": "f1c07242",
   "metadata": {},
   "outputs": [
    {
     "data": {
      "text/html": [
       "<div>\n",
       "<style scoped>\n",
       "    .dataframe tbody tr th:only-of-type {\n",
       "        vertical-align: middle;\n",
       "    }\n",
       "\n",
       "    .dataframe tbody tr th {\n",
       "        vertical-align: top;\n",
       "    }\n",
       "\n",
       "    .dataframe thead th {\n",
       "        text-align: right;\n",
       "    }\n",
       "</style>\n",
       "<table border=\"1\" class=\"dataframe\">\n",
       "  <thead>\n",
       "    <tr style=\"text-align: right;\">\n",
       "      <th></th>\n",
       "      <th>hrs_per_week</th>\n",
       "      <th>country_France</th>\n",
       "      <th>country_Germany</th>\n",
       "      <th>country_Italy</th>\n",
       "      <th>browser_Chrome</th>\n",
       "      <th>browser_Firefox</th>\n",
       "      <th>browser_IE</th>\n",
       "      <th>browser_Opera</th>\n",
       "      <th>browser_Safari</th>\n",
       "      <th>program_drip</th>\n",
       "    </tr>\n",
       "  </thead>\n",
       "  <tbody>\n",
       "    <tr>\n",
       "      <th>0</th>\n",
       "      <td>4.91</td>\n",
       "      <td>0</td>\n",
       "      <td>1</td>\n",
       "      <td>0</td>\n",
       "      <td>0</td>\n",
       "      <td>0</td>\n",
       "      <td>1</td>\n",
       "      <td>0</td>\n",
       "      <td>0</td>\n",
       "      <td>0</td>\n",
       "    </tr>\n",
       "    <tr>\n",
       "      <th>1</th>\n",
       "      <td>3.97</td>\n",
       "      <td>1</td>\n",
       "      <td>0</td>\n",
       "      <td>0</td>\n",
       "      <td>0</td>\n",
       "      <td>0</td>\n",
       "      <td>0</td>\n",
       "      <td>0</td>\n",
       "      <td>1</td>\n",
       "      <td>0</td>\n",
       "    </tr>\n",
       "    <tr>\n",
       "      <th>2</th>\n",
       "      <td>3.55</td>\n",
       "      <td>1</td>\n",
       "      <td>0</td>\n",
       "      <td>0</td>\n",
       "      <td>1</td>\n",
       "      <td>0</td>\n",
       "      <td>0</td>\n",
       "      <td>0</td>\n",
       "      <td>0</td>\n",
       "      <td>1</td>\n",
       "    </tr>\n",
       "    <tr>\n",
       "      <th>3</th>\n",
       "      <td>5.46</td>\n",
       "      <td>1</td>\n",
       "      <td>0</td>\n",
       "      <td>0</td>\n",
       "      <td>1</td>\n",
       "      <td>0</td>\n",
       "      <td>0</td>\n",
       "      <td>0</td>\n",
       "      <td>0</td>\n",
       "      <td>1</td>\n",
       "    </tr>\n",
       "    <tr>\n",
       "      <th>4</th>\n",
       "      <td>3.87</td>\n",
       "      <td>0</td>\n",
       "      <td>1</td>\n",
       "      <td>0</td>\n",
       "      <td>1</td>\n",
       "      <td>0</td>\n",
       "      <td>0</td>\n",
       "      <td>0</td>\n",
       "      <td>0</td>\n",
       "      <td>0</td>\n",
       "    </tr>\n",
       "    <tr>\n",
       "      <th>...</th>\n",
       "      <td>...</td>\n",
       "      <td>...</td>\n",
       "      <td>...</td>\n",
       "      <td>...</td>\n",
       "      <td>...</td>\n",
       "      <td>...</td>\n",
       "      <td>...</td>\n",
       "      <td>...</td>\n",
       "      <td>...</td>\n",
       "      <td>...</td>\n",
       "    </tr>\n",
       "    <tr>\n",
       "      <th>88869</th>\n",
       "      <td>3.96</td>\n",
       "      <td>1</td>\n",
       "      <td>0</td>\n",
       "      <td>0</td>\n",
       "      <td>1</td>\n",
       "      <td>0</td>\n",
       "      <td>0</td>\n",
       "      <td>0</td>\n",
       "      <td>0</td>\n",
       "      <td>1</td>\n",
       "    </tr>\n",
       "    <tr>\n",
       "      <th>88870</th>\n",
       "      <td>3.73</td>\n",
       "      <td>0</td>\n",
       "      <td>1</td>\n",
       "      <td>0</td>\n",
       "      <td>0</td>\n",
       "      <td>0</td>\n",
       "      <td>0</td>\n",
       "      <td>0</td>\n",
       "      <td>1</td>\n",
       "      <td>1</td>\n",
       "    </tr>\n",
       "    <tr>\n",
       "      <th>88871</th>\n",
       "      <td>2.98</td>\n",
       "      <td>0</td>\n",
       "      <td>1</td>\n",
       "      <td>0</td>\n",
       "      <td>1</td>\n",
       "      <td>0</td>\n",
       "      <td>0</td>\n",
       "      <td>0</td>\n",
       "      <td>0</td>\n",
       "      <td>1</td>\n",
       "    </tr>\n",
       "    <tr>\n",
       "      <th>88872</th>\n",
       "      <td>0.24</td>\n",
       "      <td>0</td>\n",
       "      <td>1</td>\n",
       "      <td>0</td>\n",
       "      <td>0</td>\n",
       "      <td>0</td>\n",
       "      <td>0</td>\n",
       "      <td>1</td>\n",
       "      <td>0</td>\n",
       "      <td>0</td>\n",
       "    </tr>\n",
       "    <tr>\n",
       "      <th>88873</th>\n",
       "      <td>4.19</td>\n",
       "      <td>0</td>\n",
       "      <td>1</td>\n",
       "      <td>0</td>\n",
       "      <td>0</td>\n",
       "      <td>1</td>\n",
       "      <td>0</td>\n",
       "      <td>0</td>\n",
       "      <td>0</td>\n",
       "      <td>0</td>\n",
       "    </tr>\n",
       "  </tbody>\n",
       "</table>\n",
       "<p>88874 rows × 10 columns</p>\n",
       "</div>"
      ],
      "text/plain": [
       "       hrs_per_week  country_France  country_Germany  country_Italy  \\\n",
       "0              4.91               0                1              0   \n",
       "1              3.97               1                0              0   \n",
       "2              3.55               1                0              0   \n",
       "3              5.46               1                0              0   \n",
       "4              3.87               0                1              0   \n",
       "...             ...             ...              ...            ...   \n",
       "88869          3.96               1                0              0   \n",
       "88870          3.73               0                1              0   \n",
       "88871          2.98               0                1              0   \n",
       "88872          0.24               0                1              0   \n",
       "88873          4.19               0                1              0   \n",
       "\n",
       "       browser_Chrome  browser_Firefox  browser_IE  browser_Opera  \\\n",
       "0                   0                0           1              0   \n",
       "1                   0                0           0              0   \n",
       "2                   1                0           0              0   \n",
       "3                   1                0           0              0   \n",
       "4                   1                0           0              0   \n",
       "...               ...              ...         ...            ...   \n",
       "88869               1                0           0              0   \n",
       "88870               0                0           0              0   \n",
       "88871               1                0           0              0   \n",
       "88872               0                0           0              1   \n",
       "88873               0                1           0              0   \n",
       "\n",
       "       browser_Safari  program_drip  \n",
       "0                   0             0  \n",
       "1                   1             0  \n",
       "2                   0             1  \n",
       "3                   0             1  \n",
       "4                   0             0  \n",
       "...               ...           ...  \n",
       "88869               0             1  \n",
       "88870               1             1  \n",
       "88871               0             1  \n",
       "88872               0             0  \n",
       "88873               0             0  \n",
       "\n",
       "[88874 rows x 10 columns]"
      ]
     },
     "execution_count": 92,
     "metadata": {},
     "output_type": "execute_result"
    }
   ],
   "source": [
    "df3 = df2.drop(\"program_binge\", axis=1)\n",
    "df3"
   ]
  },
  {
   "cell_type": "markdown",
   "id": "485e03c9",
   "metadata": {},
   "source": [
    "# Machine Learning Model"
   ]
  },
  {
   "cell_type": "code",
   "execution_count": 93,
   "id": "c9dbb656",
   "metadata": {},
   "outputs": [
    {
     "data": {
      "text/html": [
       "<div>\n",
       "<style scoped>\n",
       "    .dataframe tbody tr th:only-of-type {\n",
       "        vertical-align: middle;\n",
       "    }\n",
       "\n",
       "    .dataframe tbody tr th {\n",
       "        vertical-align: top;\n",
       "    }\n",
       "\n",
       "    .dataframe thead th {\n",
       "        text-align: right;\n",
       "    }\n",
       "</style>\n",
       "<table border=\"1\" class=\"dataframe\">\n",
       "  <thead>\n",
       "    <tr style=\"text-align: right;\">\n",
       "      <th></th>\n",
       "      <th>hrs_per_week</th>\n",
       "      <th>country_France</th>\n",
       "      <th>country_Germany</th>\n",
       "      <th>country_Italy</th>\n",
       "      <th>browser_Chrome</th>\n",
       "      <th>browser_Firefox</th>\n",
       "      <th>browser_IE</th>\n",
       "      <th>browser_Opera</th>\n",
       "      <th>browser_Safari</th>\n",
       "    </tr>\n",
       "  </thead>\n",
       "  <tbody>\n",
       "    <tr>\n",
       "      <th>0</th>\n",
       "      <td>4.91</td>\n",
       "      <td>0</td>\n",
       "      <td>1</td>\n",
       "      <td>0</td>\n",
       "      <td>0</td>\n",
       "      <td>0</td>\n",
       "      <td>1</td>\n",
       "      <td>0</td>\n",
       "      <td>0</td>\n",
       "    </tr>\n",
       "    <tr>\n",
       "      <th>1</th>\n",
       "      <td>3.97</td>\n",
       "      <td>1</td>\n",
       "      <td>0</td>\n",
       "      <td>0</td>\n",
       "      <td>0</td>\n",
       "      <td>0</td>\n",
       "      <td>0</td>\n",
       "      <td>0</td>\n",
       "      <td>1</td>\n",
       "    </tr>\n",
       "    <tr>\n",
       "      <th>2</th>\n",
       "      <td>3.55</td>\n",
       "      <td>1</td>\n",
       "      <td>0</td>\n",
       "      <td>0</td>\n",
       "      <td>1</td>\n",
       "      <td>0</td>\n",
       "      <td>0</td>\n",
       "      <td>0</td>\n",
       "      <td>0</td>\n",
       "    </tr>\n",
       "    <tr>\n",
       "      <th>3</th>\n",
       "      <td>5.46</td>\n",
       "      <td>1</td>\n",
       "      <td>0</td>\n",
       "      <td>0</td>\n",
       "      <td>1</td>\n",
       "      <td>0</td>\n",
       "      <td>0</td>\n",
       "      <td>0</td>\n",
       "      <td>0</td>\n",
       "    </tr>\n",
       "    <tr>\n",
       "      <th>4</th>\n",
       "      <td>3.87</td>\n",
       "      <td>0</td>\n",
       "      <td>1</td>\n",
       "      <td>0</td>\n",
       "      <td>1</td>\n",
       "      <td>0</td>\n",
       "      <td>0</td>\n",
       "      <td>0</td>\n",
       "      <td>0</td>\n",
       "    </tr>\n",
       "  </tbody>\n",
       "</table>\n",
       "</div>"
      ],
      "text/plain": [
       "   hrs_per_week  country_France  country_Germany  country_Italy  \\\n",
       "0          4.91               0                1              0   \n",
       "1          3.97               1                0              0   \n",
       "2          3.55               1                0              0   \n",
       "3          5.46               1                0              0   \n",
       "4          3.87               0                1              0   \n",
       "\n",
       "   browser_Chrome  browser_Firefox  browser_IE  browser_Opera  browser_Safari  \n",
       "0               0                0           1              0               0  \n",
       "1               0                0           0              0               1  \n",
       "2               1                0           0              0               0  \n",
       "3               1                0           0              0               0  \n",
       "4               1                0           0              0               0  "
      ]
     },
     "execution_count": 93,
     "metadata": {},
     "output_type": "execute_result"
    }
   ],
   "source": [
    "X = df3.drop([\"program_drip\"], axis=1)\n",
    "X.head()"
   ]
  },
  {
   "cell_type": "code",
   "execution_count": 94,
   "id": "e5208b56",
   "metadata": {},
   "outputs": [
    {
     "data": {
      "text/plain": [
       "(88874, 9)"
      ]
     },
     "execution_count": 94,
     "metadata": {},
     "output_type": "execute_result"
    }
   ],
   "source": [
    "X.shape"
   ]
  },
  {
   "cell_type": "code",
   "execution_count": 95,
   "id": "74775be6",
   "metadata": {},
   "outputs": [
    {
     "data": {
      "text/plain": [
       "0    0\n",
       "1    0\n",
       "2    1\n",
       "3    1\n",
       "4    0\n",
       "Name: program_drip, dtype: uint8"
      ]
     },
     "execution_count": 95,
     "metadata": {},
     "output_type": "execute_result"
    }
   ],
   "source": [
    "y = df3[\"program_drip\"]\n",
    "y.head()"
   ]
  },
  {
   "cell_type": "code",
   "execution_count": 96,
   "id": "b6680fa8",
   "metadata": {},
   "outputs": [
    {
     "data": {
      "text/plain": [
       "(88874,)"
      ]
     },
     "execution_count": 96,
     "metadata": {},
     "output_type": "execute_result"
    }
   ],
   "source": [
    "y.shape"
   ]
  },
  {
   "cell_type": "code",
   "execution_count": 97,
   "id": "d3fc0d26",
   "metadata": {},
   "outputs": [
    {
     "data": {
      "text/plain": [
       "1    44503\n",
       "0    44371\n",
       "Name: program_drip, dtype: int64"
      ]
     },
     "execution_count": 97,
     "metadata": {},
     "output_type": "execute_result"
    }
   ],
   "source": [
    "y.value_counts()"
   ]
  },
  {
   "cell_type": "markdown",
   "id": "6f583ccc",
   "metadata": {},
   "source": [
    "# Split our data into training and testing data"
   ]
  },
  {
   "cell_type": "code",
   "execution_count": 98,
   "id": "0a47ae27",
   "metadata": {},
   "outputs": [],
   "source": [
    "from sklearn.model_selection import train_test_split\n",
    "X_train, X_test, y_train, y_test = train_test_split(X, y, random_state=42)"
   ]
  },
  {
   "cell_type": "markdown",
   "id": "54befbbf",
   "metadata": {},
   "source": [
    "# DummyClassifier"
   ]
  },
  {
   "cell_type": "code",
   "execution_count": 99,
   "id": "b5333abf",
   "metadata": {},
   "outputs": [
    {
     "data": {
      "text/plain": [
       "DummyClassifier(strategy='most_frequent')"
      ]
     },
     "execution_count": 99,
     "metadata": {},
     "output_type": "execute_result"
    }
   ],
   "source": [
    "# Dummy Classifier\n",
    "from sklearn.dummy import DummyClassifier\n",
    "dummy_frequent_clf = DummyClassifier(strategy=\"most_frequent\")\n",
    "dummy_frequent_clf.fit(X_test, y_test)"
   ]
  },
  {
   "cell_type": "code",
   "execution_count": 100,
   "id": "9480b025",
   "metadata": {},
   "outputs": [
    {
     "name": "stdout",
     "output_type": "stream",
     "text": [
      "[1 1 1 ... 1 1 1]\n"
     ]
    }
   ],
   "source": [
    "y_pred =dummy_frequent_clf.predict(X_test)\n",
    "print(y_pred)"
   ]
  },
  {
   "cell_type": "code",
   "execution_count": 101,
   "id": "0bbad420",
   "metadata": {},
   "outputs": [
    {
     "name": "stdout",
     "output_type": "stream",
     "text": [
      "The training fraction of correct classifications is: 0.500\n",
      "The testing fraction of correct classifications is: 0.504\n"
     ]
    }
   ],
   "source": [
    "score_train = dummy_frequent_clf.score(X_train, y_train)\n",
    "score_test = dummy_frequent_clf.score(X_test, y_test)\n",
    "print('The training fraction of correct classifications is: {:5.3f}'.format(score_train))\n",
    "print('The testing fraction of correct classifications is: {:5.3f}'.format(score_test))"
   ]
  },
  {
   "cell_type": "code",
   "execution_count": 102,
   "id": "ddb00e6a",
   "metadata": {},
   "outputs": [
    {
     "data": {
      "text/plain": [
       "array([[    0, 11029],\n",
       "       [    0, 11190]], dtype=int64)"
      ]
     },
     "execution_count": 102,
     "metadata": {},
     "output_type": "execute_result"
    }
   ],
   "source": [
    "# Confusion Matrix\n",
    "from sklearn.metrics import accuracy_score, confusion_matrix, classification_report\n",
    "CM = confusion_matrix(y_test,y_pred)\n",
    "CM"
   ]
  },
  {
   "cell_type": "code",
   "execution_count": 103,
   "id": "7647215a",
   "metadata": {},
   "outputs": [
    {
     "name": "stdout",
     "output_type": "stream",
     "text": [
      "              precision    recall  f1-score   support\n",
      "\n",
      "           0       0.00      0.00      0.00     11029\n",
      "           1       0.50      1.00      0.67     11190\n",
      "\n",
      "    accuracy                           0.50     22219\n",
      "   macro avg       0.25      0.50      0.33     22219\n",
      "weighted avg       0.25      0.50      0.34     22219\n",
      "\n"
     ]
    }
   ],
   "source": [
    "print(classification_report(y_test, y_pred))"
   ]
  },
  {
   "cell_type": "code",
   "execution_count": 104,
   "id": "c069fbb2",
   "metadata": {},
   "outputs": [],
   "source": [
    "from sklearn.preprocessing import StandardScaler\n",
    "scaler = StandardScaler().fit(X_train)\n",
    "X_train_scaled = scaler.transform(X_train)\n",
    "X_test_scaled = scaler.transform(X_test)"
   ]
  },
  {
   "cell_type": "markdown",
   "id": "46548268",
   "metadata": {},
   "source": [
    "# Logistic Regression"
   ]
  },
  {
   "cell_type": "code",
   "execution_count": 105,
   "id": "29f3cac8",
   "metadata": {},
   "outputs": [],
   "source": [
    "# Import the model\n",
    "from sklearn.linear_model import LogisticRegression\n",
    "# Instantiate a logistic regression model\n",
    "classifier = LogisticRegression(max_iter=10000)\n",
    "# Train the Model we use fit () \n",
    "classifier.fit(X_train_scaled, y_train)\n",
    "# validate the model we use predict()\n",
    "y_pred = classifier.predict(X_test_scaled)"
   ]
  },
  {
   "cell_type": "code",
   "execution_count": 106,
   "id": "c6ca08f5",
   "metadata": {},
   "outputs": [
    {
     "data": {
      "text/plain": [
       "array([[4854, 6175],\n",
       "       [5048, 6142]], dtype=int64)"
      ]
     },
     "execution_count": 106,
     "metadata": {},
     "output_type": "execute_result"
    }
   ],
   "source": [
    "lr_CM = confusion_matrix(y_test,y_pred)\n",
    "lr_CM"
   ]
  },
  {
   "cell_type": "code",
   "execution_count": 107,
   "id": "ddc51dcf",
   "metadata": {},
   "outputs": [
    {
     "data": {
      "text/html": [
       "<div>\n",
       "<style scoped>\n",
       "    .dataframe tbody tr th:only-of-type {\n",
       "        vertical-align: middle;\n",
       "    }\n",
       "\n",
       "    .dataframe tbody tr th {\n",
       "        vertical-align: top;\n",
       "    }\n",
       "\n",
       "    .dataframe thead th {\n",
       "        text-align: right;\n",
       "    }\n",
       "</style>\n",
       "<table border=\"1\" class=\"dataframe\">\n",
       "  <thead>\n",
       "    <tr style=\"text-align: right;\">\n",
       "      <th></th>\n",
       "      <th>Predicted 0</th>\n",
       "      <th>Predicted 1</th>\n",
       "    </tr>\n",
       "  </thead>\n",
       "  <tbody>\n",
       "    <tr>\n",
       "      <th>Actual 0</th>\n",
       "      <td>4854</td>\n",
       "      <td>6175</td>\n",
       "    </tr>\n",
       "    <tr>\n",
       "      <th>Actual 1</th>\n",
       "      <td>5048</td>\n",
       "      <td>6142</td>\n",
       "    </tr>\n",
       "  </tbody>\n",
       "</table>\n",
       "</div>"
      ],
      "text/plain": [
       "          Predicted 0  Predicted 1\n",
       "Actual 0         4854         6175\n",
       "Actual 1         5048         6142"
      ]
     },
     "execution_count": 107,
     "metadata": {},
     "output_type": "execute_result"
    }
   ],
   "source": [
    "# Create a DataFrame from the confusion matrix.\n",
    "lr_df = pd.DataFrame(\n",
    "    lr_CM, index=[\"Actual 0\", \"Actual 1\"], columns=[\"Predicted 0\", \"Predicted 1\"])\n",
    "\n",
    "lr_df"
   ]
  },
  {
   "cell_type": "code",
   "execution_count": 108,
   "id": "5febd3e5",
   "metadata": {},
   "outputs": [
    {
     "name": "stdout",
     "output_type": "stream",
     "text": [
      "              precision    recall  f1-score   support\n",
      "\n",
      "    negative       0.49      0.44      0.46     11029\n",
      "    positive       0.50      0.55      0.52     11190\n",
      "\n",
      "    accuracy                           0.49     22219\n",
      "   macro avg       0.49      0.49      0.49     22219\n",
      "weighted avg       0.49      0.49      0.49     22219\n",
      "\n"
     ]
    }
   ],
   "source": [
    "\n",
    "target_names = [\"negative\", \"positive\"]\n",
    "print(classification_report(y_test, y_pred, target_names=target_names))"
   ]
  },
  {
   "cell_type": "code",
   "execution_count": 109,
   "id": "a50c353a",
   "metadata": {},
   "outputs": [
    {
     "name": "stdout",
     "output_type": "stream",
     "text": [
      "Training Data Score: 0.5028429975245668\n",
      "Testing Data Score: 0.49489175930509927\n"
     ]
    }
   ],
   "source": [
    "print(f\"Training Data Score: {classifier.score(X_train_scaled, y_train)}\")\n",
    "print(f\"Testing Data Score: {classifier.score(X_test_scaled, y_test)}\")"
   ]
  },
  {
   "cell_type": "markdown",
   "id": "92d7c194",
   "metadata": {},
   "source": [
    "# RandomForestClassifier"
   ]
  },
  {
   "cell_type": "code",
   "execution_count": 110,
   "id": "655bbfab",
   "metadata": {},
   "outputs": [
    {
     "name": "stdout",
     "output_type": "stream",
     "text": [
      "              precision    recall  f1-score   support\n",
      "\n",
      "    negative       0.54      0.51      0.52     11029\n",
      "    positive       0.54      0.57      0.56     11190\n",
      "\n",
      "    accuracy                           0.54     22219\n",
      "   macro avg       0.54      0.54      0.54     22219\n",
      "weighted avg       0.54      0.54      0.54     22219\n",
      "\n",
      "Training Score: 0.6757782611957093\n",
      "Testing Score: 0.5396732526216301\n"
     ]
    }
   ],
   "source": [
    "# Import a Random Forests classifier\n",
    "from sklearn.ensemble import RandomForestClassifier\n",
    "# Fit a model, and then print a classification report\n",
    "clf = RandomForestClassifier(random_state=1)\n",
    "clf.fit(X_train_scaled, y_train)\n",
    "y_pred = clf.predict(X_test_scaled)\n",
    "print(classification_report(y_test, y_pred, target_names=target_names))\n",
    "print(f'Training Score: {clf.score(X_train_scaled, y_train)}')\n",
    "print(f'Testing Score: {clf.score(X_test_scaled, y_test)}')"
   ]
  },
  {
   "cell_type": "markdown",
   "id": "56f1db35",
   "metadata": {},
   "source": [
    "# AdaBoostClassifier"
   ]
  },
  {
   "cell_type": "code",
   "execution_count": 111,
   "id": "11c840a4",
   "metadata": {},
   "outputs": [
    {
     "data": {
      "text/plain": [
       "AdaBoostClassifier(random_state=1)"
      ]
     },
     "execution_count": 111,
     "metadata": {},
     "output_type": "execute_result"
    }
   ],
   "source": [
    "from sklearn.ensemble import AdaBoostClassifier\n",
    "clf = AdaBoostClassifier(random_state=1).fit(X_train_scaled, y_train)\n",
    "clf"
   ]
  },
  {
   "cell_type": "code",
   "execution_count": 112,
   "id": "37a58895",
   "metadata": {},
   "outputs": [
    {
     "data": {
      "text/plain": [
       "array([[5588, 5441],\n",
       "       [4787, 6403]], dtype=int64)"
      ]
     },
     "execution_count": 112,
     "metadata": {},
     "output_type": "execute_result"
    }
   ],
   "source": [
    "adb_cm = confusion_matrix(y_test, y_pred)\n",
    "adb_cm"
   ]
  },
  {
   "cell_type": "code",
   "execution_count": 113,
   "id": "64901b16",
   "metadata": {},
   "outputs": [
    {
     "name": "stdout",
     "output_type": "stream",
     "text": [
      "              precision    recall  f1-score   support\n",
      "\n",
      "    negative       0.54      0.51      0.52     11029\n",
      "    positive       0.54      0.57      0.56     11190\n",
      "\n",
      "    accuracy                           0.54     22219\n",
      "   macro avg       0.54      0.54      0.54     22219\n",
      "weighted avg       0.54      0.54      0.54     22219\n",
      "\n",
      "Training Score: 0.5873677893631386\n",
      "Testing Score: 0.5812592825959764\n"
     ]
    }
   ],
   "source": [
    "print(classification_report(y_test, y_pred, target_names=target_names))\n",
    "print(f'Training Score: {clf.score(X_train_scaled, y_train)}')\n",
    "print(f'Testing Score: {clf.score(X_test_scaled, y_test)}')"
   ]
  },
  {
   "cell_type": "code",
   "execution_count": 114,
   "id": "86381768",
   "metadata": {},
   "outputs": [
    {
     "name": "stdout",
     "output_type": "stream",
     "text": [
      "              precision    recall  f1-score   support\n",
      "\n",
      "    negative       0.65      0.35      0.45     11029\n",
      "    positive       0.56      0.82      0.66     11190\n",
      "\n",
      "    accuracy                           0.58     22219\n",
      "   macro avg       0.60      0.58      0.56     22219\n",
      "weighted avg       0.60      0.58      0.56     22219\n",
      "\n",
      "Training Score: 0.5870827394794089\n",
      "Testing Score: 0.5824294522705792\n"
     ]
    }
   ],
   "source": [
    "from sklearn.tree import DecisionTreeClassifier\n",
    "\n",
    "clf =DecisionTreeClassifier(criterion='entropy', random_state=45  , max_depth=4)\n",
    "clf.fit(X_train_scaled, y_train)\n",
    "y_pred = clf.predict(X_test_scaled)\n",
    "print(classification_report(y_test, y_pred, target_names=target_names))\n",
    "print(f'Training Score: {clf.score(X_train_scaled, y_train)}')\n",
    "print(f'Testing Score: {clf.score(X_test_scaled, y_test)}')"
   ]
  },
  {
   "cell_type": "code",
   "execution_count": 115,
   "id": "380cd3ec",
   "metadata": {},
   "outputs": [
    {
     "name": "stdout",
     "output_type": "stream",
     "text": [
      "              precision    recall  f1-score   support\n",
      "\n",
      "    negative       0.53      0.56      0.55     11029\n",
      "    positive       0.55      0.52      0.53     11190\n",
      "\n",
      "    accuracy                           0.54     22219\n",
      "   macro avg       0.54      0.54      0.54     22219\n",
      "weighted avg       0.54      0.54      0.54     22219\n",
      "\n",
      "Training Score: 0.6758232690720876\n",
      "Testing Score: 0.5398982852513614\n"
     ]
    }
   ],
   "source": [
    "# Import an Extremely Random Trees classifier\n",
    "from sklearn.ensemble import ExtraTreesClassifier\n",
    "clf = ExtraTreesClassifier(random_state=1)\n",
    "clf.fit(X_train_scaled, y_train)\n",
    "y_pred = clf.predict(X_test_scaled)\n",
    "print(classification_report(y_test, y_pred, target_names=target_names))\n",
    "print(f'Training Score: {clf.score(X_train_scaled, y_train)}')\n",
    "print(f'Testing Score: {clf.score(X_test_scaled, y_test)}')"
   ]
  },
  {
   "cell_type": "code",
   "execution_count": 116,
   "id": "412b72dd",
   "metadata": {},
   "outputs": [],
   "source": [
    "#%%time       "
   ]
  },
  {
   "cell_type": "code",
   "execution_count": 118,
   "id": "707ad2a4",
   "metadata": {},
   "outputs": [
    {
     "name": "stdout",
     "output_type": "stream",
     "text": [
      "Saba Amin\n"
     ]
    }
   ],
   "source": [
    "print(\"Saba Amin\")"
   ]
  },
  {
   "cell_type": "code",
   "execution_count": null,
   "id": "a75a0256",
   "metadata": {},
   "outputs": [],
   "source": []
  }
 ],
 "metadata": {
  "kernelspec": {
   "display_name": "mlen",
   "language": "python",
   "name": "mlen"
  },
  "language_info": {
   "codemirror_mode": {
    "name": "ipython",
    "version": 3
   },
   "file_extension": ".py",
   "mimetype": "text/x-python",
   "name": "python",
   "nbconvert_exporter": "python",
   "pygments_lexer": "ipython3",
   "version": "3.7.13"
  }
 },
 "nbformat": 4,
 "nbformat_minor": 5
}
