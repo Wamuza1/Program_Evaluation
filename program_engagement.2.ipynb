{
 "cells": [
  {
   "cell_type": "code",
   "execution_count": 6,
   "id": "68476eec",
   "metadata": {},
   "outputs": [],
   "source": [
    "import pandas as pd"
   ]
  },
  {
   "cell_type": "code",
   "execution_count": 7,
   "id": "6b6bf40e",
   "metadata": {},
   "outputs": [],
   "source": [
    "df_engagement = pd.read_csv(\"data/engagement.csv\")"
   ]
  },
  {
   "cell_type": "code",
   "execution_count": 8,
   "id": "0b1847f9",
   "metadata": {},
   "outputs": [
    {
     "data": {
      "text/plain": [
       "(88874, 4)"
      ]
     },
     "execution_count": 8,
     "metadata": {},
     "output_type": "execute_result"
    }
   ],
   "source": [
    "df_engagement.shape"
   ]
  },
  {
   "cell_type": "code",
   "execution_count": 9,
   "id": "ca67e021",
   "metadata": {},
   "outputs": [
    {
     "data": {
      "text/html": [
       "<div>\n",
       "<style scoped>\n",
       "    .dataframe tbody tr th:only-of-type {\n",
       "        vertical-align: middle;\n",
       "    }\n",
       "\n",
       "    .dataframe tbody tr th {\n",
       "        vertical-align: top;\n",
       "    }\n",
       "\n",
       "    .dataframe thead th {\n",
       "        text-align: right;\n",
       "    }\n",
       "</style>\n",
       "<table border=\"1\" class=\"dataframe\">\n",
       "  <thead>\n",
       "    <tr style=\"text-align: right;\">\n",
       "      <th></th>\n",
       "      <th>user_id</th>\n",
       "      <th>browser</th>\n",
       "      <th>program</th>\n",
       "      <th>hrs_per_week</th>\n",
       "    </tr>\n",
       "  </thead>\n",
       "  <tbody>\n",
       "    <tr>\n",
       "      <th>0</th>\n",
       "      <td>769245</td>\n",
       "      <td>IE</td>\n",
       "      <td>binge</td>\n",
       "      <td>4.91</td>\n",
       "    </tr>\n",
       "    <tr>\n",
       "      <th>1</th>\n",
       "      <td>21650570</td>\n",
       "      <td>Safari</td>\n",
       "      <td>binge</td>\n",
       "      <td>3.97</td>\n",
       "    </tr>\n",
       "    <tr>\n",
       "      <th>2</th>\n",
       "      <td>91760162</td>\n",
       "      <td>Chrome</td>\n",
       "      <td>drip</td>\n",
       "      <td>3.55</td>\n",
       "    </tr>\n",
       "    <tr>\n",
       "      <th>3</th>\n",
       "      <td>90748752</td>\n",
       "      <td>Chrome</td>\n",
       "      <td>drip</td>\n",
       "      <td>5.46</td>\n",
       "    </tr>\n",
       "    <tr>\n",
       "      <th>4</th>\n",
       "      <td>66876824</td>\n",
       "      <td>Chrome</td>\n",
       "      <td>binge</td>\n",
       "      <td>3.87</td>\n",
       "    </tr>\n",
       "  </tbody>\n",
       "</table>\n",
       "</div>"
      ],
      "text/plain": [
       "    user_id browser program  hrs_per_week\n",
       "0    769245      IE   binge          4.91\n",
       "1  21650570  Safari   binge          3.97\n",
       "2  91760162  Chrome    drip          3.55\n",
       "3  90748752  Chrome    drip          5.46\n",
       "4  66876824  Chrome   binge          3.87"
      ]
     },
     "execution_count": 9,
     "metadata": {},
     "output_type": "execute_result"
    }
   ],
   "source": [
    "df_engagement.head()"
   ]
  },
  {
   "cell_type": "code",
   "execution_count": 10,
   "id": "e5151ede",
   "metadata": {},
   "outputs": [
    {
     "data": {
      "text/plain": [
       "0             IE\n",
       "1         Safari\n",
       "2         Chrome\n",
       "3         Chrome\n",
       "4         Chrome\n",
       "          ...   \n",
       "88869     Chrome\n",
       "88870     Safari\n",
       "88871     Chrome\n",
       "88872      Opera\n",
       "88873    Firefox\n",
       "Name: browser, Length: 88874, dtype: object"
      ]
     },
     "execution_count": 10,
     "metadata": {},
     "output_type": "execute_result"
    }
   ],
   "source": [
    "df_engagement['browser']"
   ]
  },
  {
   "cell_type": "code",
   "execution_count": 11,
   "id": "89d4db72",
   "metadata": {},
   "outputs": [
    {
     "data": {
      "text/plain": [
       "Chrome     38626\n",
       "IE         19460\n",
       "Firefox    19303\n",
       "Safari      9605\n",
       "Opera       1880\n",
       "Name: browser, dtype: int64"
      ]
     },
     "execution_count": 11,
     "metadata": {},
     "output_type": "execute_result"
    }
   ],
   "source": [
    "df_engagement['browser'].value_counts()"
   ]
  },
  {
   "cell_type": "code",
   "execution_count": 12,
   "id": "a4656288",
   "metadata": {},
   "outputs": [],
   "source": [
    "df_users = pd.read_csv(\"data/users.csv\")"
   ]
  },
  {
   "cell_type": "code",
   "execution_count": 13,
   "id": "ffb3fa7d",
   "metadata": {},
   "outputs": [
    {
     "data": {
      "text/plain": [
       "(88874, 3)"
      ]
     },
     "execution_count": 13,
     "metadata": {},
     "output_type": "execute_result"
    }
   ],
   "source": [
    "df_users.shape"
   ]
  },
  {
   "cell_type": "code",
   "execution_count": 14,
   "id": "a4e24a09",
   "metadata": {},
   "outputs": [],
   "source": [
    "?"
   ]
  },
  {
   "cell_type": "code",
   "execution_count": 15,
   "id": "c8855932",
   "metadata": {},
   "outputs": [
    {
     "data": {
      "text/plain": [
       "88874"
      ]
     },
     "execution_count": 15,
     "metadata": {},
     "output_type": "execute_result"
    }
   ],
   "source": [
    "df_engagement[\"user_id\"].nunique()"
   ]
  },
  {
   "cell_type": "code",
   "execution_count": 16,
   "id": "7a42aa17",
   "metadata": {},
   "outputs": [
    {
     "data": {
      "text/plain": [
       "88874"
      ]
     },
     "execution_count": 16,
     "metadata": {},
     "output_type": "execute_result"
    }
   ],
   "source": [
    "df_users[\"user_id\"].nunique()"
   ]
  },
  {
   "cell_type": "code",
   "execution_count": 17,
   "id": "08d3adb3",
   "metadata": {},
   "outputs": [],
   "source": [
    "engagement_user_ids=df_engagement[\"user_id\"].unique()"
   ]
  },
  {
   "cell_type": "code",
   "execution_count": 18,
   "id": "d84792e3",
   "metadata": {},
   "outputs": [
    {
     "data": {
      "text/plain": [
       "array([  769245, 21650570, 91760162, 90748752, 66876824])"
      ]
     },
     "execution_count": 18,
     "metadata": {},
     "output_type": "execute_result"
    }
   ],
   "source": [
    "engagement_user_ids[0:5]"
   ]
  },
  {
   "cell_type": "code",
   "execution_count": 19,
   "id": "aabd4a03",
   "metadata": {},
   "outputs": [],
   "source": [
    "users_user_ids=df_users[\"user_id\"].unique()"
   ]
  },
  {
   "cell_type": "code",
   "execution_count": 20,
   "id": "10d14c8e",
   "metadata": {},
   "outputs": [
    {
     "data": {
      "text/plain": [
       "array([90482091, 41529564, 47570654, 96119909, 57248612])"
      ]
     },
     "execution_count": 20,
     "metadata": {},
     "output_type": "execute_result"
    }
   ],
   "source": [
    "users_user_ids[0:5]"
   ]
  },
  {
   "cell_type": "code",
   "execution_count": 21,
   "id": "d4883ce0",
   "metadata": {},
   "outputs": [
    {
     "data": {
      "text/plain": [
       "set()"
      ]
     },
     "execution_count": 21,
     "metadata": {},
     "output_type": "execute_result"
    }
   ],
   "source": [
    "set(engagement_user_ids)-set(users_user_ids)"
   ]
  },
  {
   "cell_type": "code",
   "execution_count": 22,
   "id": "5832c0ed",
   "metadata": {},
   "outputs": [],
   "source": [
    "df_users_engagement = pd.merge(df_engagement, df_users)\n"
   ]
  },
  {
   "cell_type": "code",
   "execution_count": 23,
   "id": "a01d9c20",
   "metadata": {},
   "outputs": [
    {
     "data": {
      "text/html": [
       "<div>\n",
       "<style scoped>\n",
       "    .dataframe tbody tr th:only-of-type {\n",
       "        vertical-align: middle;\n",
       "    }\n",
       "\n",
       "    .dataframe tbody tr th {\n",
       "        vertical-align: top;\n",
       "    }\n",
       "\n",
       "    .dataframe thead th {\n",
       "        text-align: right;\n",
       "    }\n",
       "</style>\n",
       "<table border=\"1\" class=\"dataframe\">\n",
       "  <thead>\n",
       "    <tr style=\"text-align: right;\">\n",
       "      <th></th>\n",
       "      <th>user_id</th>\n",
       "      <th>browser</th>\n",
       "      <th>program</th>\n",
       "      <th>hrs_per_week</th>\n",
       "      <th>registration</th>\n",
       "      <th>country</th>\n",
       "    </tr>\n",
       "  </thead>\n",
       "  <tbody>\n",
       "    <tr>\n",
       "      <th>0</th>\n",
       "      <td>769245</td>\n",
       "      <td>IE</td>\n",
       "      <td>binge</td>\n",
       "      <td>4.91</td>\n",
       "      <td>2015-11-20</td>\n",
       "      <td>Germany</td>\n",
       "    </tr>\n",
       "    <tr>\n",
       "      <th>1</th>\n",
       "      <td>21650570</td>\n",
       "      <td>Safari</td>\n",
       "      <td>binge</td>\n",
       "      <td>3.97</td>\n",
       "      <td>2016-01-12</td>\n",
       "      <td>France</td>\n",
       "    </tr>\n",
       "    <tr>\n",
       "      <th>2</th>\n",
       "      <td>91760162</td>\n",
       "      <td>Chrome</td>\n",
       "      <td>drip</td>\n",
       "      <td>3.55</td>\n",
       "      <td>2016-03-21</td>\n",
       "      <td>France</td>\n",
       "    </tr>\n",
       "    <tr>\n",
       "      <th>3</th>\n",
       "      <td>90748752</td>\n",
       "      <td>Chrome</td>\n",
       "      <td>drip</td>\n",
       "      <td>5.46</td>\n",
       "      <td>2016-03-17</td>\n",
       "      <td>France</td>\n",
       "    </tr>\n",
       "    <tr>\n",
       "      <th>4</th>\n",
       "      <td>66876824</td>\n",
       "      <td>Chrome</td>\n",
       "      <td>binge</td>\n",
       "      <td>3.87</td>\n",
       "      <td>2016-04-01</td>\n",
       "      <td>Germany</td>\n",
       "    </tr>\n",
       "    <tr>\n",
       "      <th>...</th>\n",
       "      <td>...</td>\n",
       "      <td>...</td>\n",
       "      <td>...</td>\n",
       "      <td>...</td>\n",
       "      <td>...</td>\n",
       "      <td>...</td>\n",
       "    </tr>\n",
       "    <tr>\n",
       "      <th>88869</th>\n",
       "      <td>77712477</td>\n",
       "      <td>Chrome</td>\n",
       "      <td>drip</td>\n",
       "      <td>3.96</td>\n",
       "      <td>2016-03-01</td>\n",
       "      <td>France</td>\n",
       "    </tr>\n",
       "    <tr>\n",
       "      <th>88870</th>\n",
       "      <td>71724217</td>\n",
       "      <td>Safari</td>\n",
       "      <td>drip</td>\n",
       "      <td>3.73</td>\n",
       "      <td>2016-05-06</td>\n",
       "      <td>Germany</td>\n",
       "    </tr>\n",
       "    <tr>\n",
       "      <th>88871</th>\n",
       "      <td>69155165</td>\n",
       "      <td>Chrome</td>\n",
       "      <td>drip</td>\n",
       "      <td>2.98</td>\n",
       "      <td>2015-11-02</td>\n",
       "      <td>Germany</td>\n",
       "    </tr>\n",
       "    <tr>\n",
       "      <th>88872</th>\n",
       "      <td>34336713</td>\n",
       "      <td>Opera</td>\n",
       "      <td>binge</td>\n",
       "      <td>0.24</td>\n",
       "      <td>2016-06-02</td>\n",
       "      <td>Germany</td>\n",
       "    </tr>\n",
       "    <tr>\n",
       "      <th>88873</th>\n",
       "      <td>7523887</td>\n",
       "      <td>Firefox</td>\n",
       "      <td>binge</td>\n",
       "      <td>4.19</td>\n",
       "      <td>2016-01-21</td>\n",
       "      <td>Germany</td>\n",
       "    </tr>\n",
       "  </tbody>\n",
       "</table>\n",
       "<p>88874 rows × 6 columns</p>\n",
       "</div>"
      ],
      "text/plain": [
       "        user_id  browser program  hrs_per_week registration  country\n",
       "0        769245       IE   binge          4.91   2015-11-20  Germany\n",
       "1      21650570   Safari   binge          3.97   2016-01-12   France\n",
       "2      91760162   Chrome    drip          3.55   2016-03-21   France\n",
       "3      90748752   Chrome    drip          5.46   2016-03-17   France\n",
       "4      66876824   Chrome   binge          3.87   2016-04-01  Germany\n",
       "...         ...      ...     ...           ...          ...      ...\n",
       "88869  77712477   Chrome    drip          3.96   2016-03-01   France\n",
       "88870  71724217   Safari    drip          3.73   2016-05-06  Germany\n",
       "88871  69155165   Chrome    drip          2.98   2015-11-02  Germany\n",
       "88872  34336713    Opera   binge          0.24   2016-06-02  Germany\n",
       "88873   7523887  Firefox   binge          4.19   2016-01-21  Germany\n",
       "\n",
       "[88874 rows x 6 columns]"
      ]
     },
     "execution_count": 23,
     "metadata": {},
     "output_type": "execute_result"
    }
   ],
   "source": [
    "df_users_engagement"
   ]
  },
  {
   "cell_type": "code",
   "execution_count": 24,
   "id": "8ec28b93",
   "metadata": {},
   "outputs": [
    {
     "data": {
      "text/html": [
       "<div>\n",
       "<style scoped>\n",
       "    .dataframe tbody tr th:only-of-type {\n",
       "        vertical-align: middle;\n",
       "    }\n",
       "\n",
       "    .dataframe tbody tr th {\n",
       "        vertical-align: top;\n",
       "    }\n",
       "\n",
       "    .dataframe thead th {\n",
       "        text-align: right;\n",
       "    }\n",
       "</style>\n",
       "<table border=\"1\" class=\"dataframe\">\n",
       "  <thead>\n",
       "    <tr style=\"text-align: right;\">\n",
       "      <th></th>\n",
       "      <th>user_id</th>\n",
       "      <th>browser</th>\n",
       "      <th>program</th>\n",
       "      <th>hrs_per_week</th>\n",
       "    </tr>\n",
       "  </thead>\n",
       "  <tbody>\n",
       "    <tr>\n",
       "      <th>0</th>\n",
       "      <td>769245</td>\n",
       "      <td>IE</td>\n",
       "      <td>binge</td>\n",
       "      <td>4.91</td>\n",
       "    </tr>\n",
       "  </tbody>\n",
       "</table>\n",
       "</div>"
      ],
      "text/plain": [
       "   user_id browser program  hrs_per_week\n",
       "0   769245      IE   binge          4.91"
      ]
     },
     "execution_count": 24,
     "metadata": {},
     "output_type": "execute_result"
    }
   ],
   "source": [
    "df_engagement[df_engagement[\"user_id\"]==769245 ]"
   ]
  },
  {
   "cell_type": "code",
   "execution_count": 25,
   "id": "b5764f92",
   "metadata": {},
   "outputs": [
    {
     "data": {
      "text/html": [
       "<div>\n",
       "<style scoped>\n",
       "    .dataframe tbody tr th:only-of-type {\n",
       "        vertical-align: middle;\n",
       "    }\n",
       "\n",
       "    .dataframe tbody tr th {\n",
       "        vertical-align: top;\n",
       "    }\n",
       "\n",
       "    .dataframe thead th {\n",
       "        text-align: right;\n",
       "    }\n",
       "</style>\n",
       "<table border=\"1\" class=\"dataframe\">\n",
       "  <thead>\n",
       "    <tr style=\"text-align: right;\">\n",
       "      <th></th>\n",
       "      <th>user_id</th>\n",
       "      <th>registration</th>\n",
       "      <th>country</th>\n",
       "    </tr>\n",
       "  </thead>\n",
       "  <tbody>\n",
       "    <tr>\n",
       "      <th>7669</th>\n",
       "      <td>769245</td>\n",
       "      <td>2015-11-20</td>\n",
       "      <td>Germany</td>\n",
       "    </tr>\n",
       "  </tbody>\n",
       "</table>\n",
       "</div>"
      ],
      "text/plain": [
       "      user_id registration  country\n",
       "7669   769245   2015-11-20  Germany"
      ]
     },
     "execution_count": 25,
     "metadata": {},
     "output_type": "execute_result"
    }
   ],
   "source": [
    "df_users[df_users[\"user_id\"]==769245 ]"
   ]
  },
  {
   "cell_type": "code",
   "execution_count": 26,
   "id": "304119f6",
   "metadata": {},
   "outputs": [
    {
     "data": {
      "text/html": [
       "<div>\n",
       "<style scoped>\n",
       "    .dataframe tbody tr th:only-of-type {\n",
       "        vertical-align: middle;\n",
       "    }\n",
       "\n",
       "    .dataframe tbody tr th {\n",
       "        vertical-align: top;\n",
       "    }\n",
       "\n",
       "    .dataframe thead th {\n",
       "        text-align: right;\n",
       "    }\n",
       "</style>\n",
       "<table border=\"1\" class=\"dataframe\">\n",
       "  <thead>\n",
       "    <tr style=\"text-align: right;\">\n",
       "      <th></th>\n",
       "      <th>user_id</th>\n",
       "      <th>browser</th>\n",
       "      <th>program</th>\n",
       "      <th>hrs_per_week</th>\n",
       "      <th>registration</th>\n",
       "      <th>country</th>\n",
       "    </tr>\n",
       "  </thead>\n",
       "  <tbody>\n",
       "    <tr>\n",
       "      <th>0</th>\n",
       "      <td>769245</td>\n",
       "      <td>IE</td>\n",
       "      <td>binge</td>\n",
       "      <td>4.91</td>\n",
       "      <td>2015-11-20</td>\n",
       "      <td>Germany</td>\n",
       "    </tr>\n",
       "  </tbody>\n",
       "</table>\n",
       "</div>"
      ],
      "text/plain": [
       "   user_id browser program  hrs_per_week registration  country\n",
       "0   769245      IE   binge          4.91   2015-11-20  Germany"
      ]
     },
     "execution_count": 26,
     "metadata": {},
     "output_type": "execute_result"
    }
   ],
   "source": [
    "df_users_engagement[df_users_engagement[\"user_id\"]==769245 ]"
   ]
  },
  {
   "cell_type": "code",
   "execution_count": 28,
   "id": "81e3c507",
   "metadata": {},
   "outputs": [
    {
     "data": {
      "text/plain": [
       "user_id         0\n",
       "browser         0\n",
       "program         0\n",
       "hrs_per_week    0\n",
       "registration    0\n",
       "country         0\n",
       "dtype: int64"
      ]
     },
     "execution_count": 28,
     "metadata": {},
     "output_type": "execute_result"
    }
   ],
   "source": [
    "df_users_engagement.isnull().sum()"
   ]
  },
  {
   "cell_type": "code",
   "execution_count": 29,
   "id": "19a2a8cc",
   "metadata": {},
   "outputs": [
    {
     "data": {
      "text/plain": [
       "0        4.91\n",
       "1        3.97\n",
       "2        3.55\n",
       "3        5.46\n",
       "4        3.87\n",
       "         ... \n",
       "88869    3.96\n",
       "88870    3.73\n",
       "88871    2.98\n",
       "88872    0.24\n",
       "88873    4.19\n",
       "Name: hrs_per_week, Length: 88874, dtype: float64"
      ]
     },
     "execution_count": 29,
     "metadata": {},
     "output_type": "execute_result"
    }
   ],
   "source": [
    "df_users_engagement[\"hrs_per_week\"]"
   ]
  },
  {
   "cell_type": "code",
   "execution_count": 31,
   "id": "1dbb0065",
   "metadata": {},
   "outputs": [
    {
     "data": {
      "text/plain": [
       "64560    17.23\n",
       "8085     16.99\n",
       "13128    16.36\n",
       "50460    16.04\n",
       "54687    16.01\n",
       "Name: hrs_per_week, dtype: float64"
      ]
     },
     "execution_count": 31,
     "metadata": {},
     "output_type": "execute_result"
    }
   ],
   "source": [
    "df_users_engagement[\"hrs_per_week\"].nlargest(5)"
   ]
  },
  {
   "cell_type": "code",
   "execution_count": 32,
   "id": "7c4cabb5",
   "metadata": {},
   "outputs": [
    {
     "data": {
      "text/plain": [
       "14     0.0\n",
       "49     0.0\n",
       "52     0.0\n",
       "65     0.0\n",
       "131    0.0\n",
       "Name: hrs_per_week, dtype: float64"
      ]
     },
     "execution_count": 32,
     "metadata": {},
     "output_type": "execute_result"
    }
   ],
   "source": [
    "df_users_engagement[\"hrs_per_week\"].nsmallest(5)"
   ]
  },
  {
   "cell_type": "code",
   "execution_count": null,
   "id": "05c0ec65",
   "metadata": {},
   "outputs": [],
   "source": []
  }
 ],
 "metadata": {
  "kernelspec": {
   "display_name": "Python 3 (ipykernel)",
   "language": "python",
   "name": "python3"
  },
  "language_info": {
   "codemirror_mode": {
    "name": "ipython",
    "version": 3
   },
   "file_extension": ".py",
   "mimetype": "text/x-python",
   "name": "python",
   "nbconvert_exporter": "python",
   "pygments_lexer": "ipython3",
   "version": "3.9.12"
  }
 },
 "nbformat": 4,
 "nbformat_minor": 5
}
