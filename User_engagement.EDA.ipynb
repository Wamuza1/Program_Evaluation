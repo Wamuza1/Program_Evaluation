{
 "cells": [
  {
   "cell_type": "code",
   "execution_count": 1,
   "id": "68476eec",
   "metadata": {},
   "outputs": [],
   "source": [
    "import pandas as pd"
   ]
  },
  {
   "cell_type": "code",
   "execution_count": 2,
   "id": "6b6bf40e",
   "metadata": {},
   "outputs": [],
   "source": [
    "df_engagement = pd.read_csv(\"Resources/engagement.csv\")"
   ]
  },
  {
   "cell_type": "code",
   "execution_count": 3,
   "id": "0b1847f9",
   "metadata": {},
   "outputs": [
    {
     "data": {
      "text/plain": [
       "(88874, 4)"
      ]
     },
     "execution_count": 3,
     "metadata": {},
     "output_type": "execute_result"
    }
   ],
   "source": [
    "df_engagement.shape"
   ]
  },
  {
   "cell_type": "code",
   "execution_count": 4,
   "id": "ca67e021",
   "metadata": {},
   "outputs": [
    {
     "data": {
      "text/html": [
       "<div>\n",
       "<style scoped>\n",
       "    .dataframe tbody tr th:only-of-type {\n",
       "        vertical-align: middle;\n",
       "    }\n",
       "\n",
       "    .dataframe tbody tr th {\n",
       "        vertical-align: top;\n",
       "    }\n",
       "\n",
       "    .dataframe thead th {\n",
       "        text-align: right;\n",
       "    }\n",
       "</style>\n",
       "<table border=\"1\" class=\"dataframe\">\n",
       "  <thead>\n",
       "    <tr style=\"text-align: right;\">\n",
       "      <th></th>\n",
       "      <th>user_id</th>\n",
       "      <th>browser</th>\n",
       "      <th>program</th>\n",
       "      <th>hrs_per_week</th>\n",
       "    </tr>\n",
       "  </thead>\n",
       "  <tbody>\n",
       "    <tr>\n",
       "      <th>0</th>\n",
       "      <td>769245</td>\n",
       "      <td>IE</td>\n",
       "      <td>binge</td>\n",
       "      <td>4.91</td>\n",
       "    </tr>\n",
       "    <tr>\n",
       "      <th>1</th>\n",
       "      <td>21650570</td>\n",
       "      <td>Safari</td>\n",
       "      <td>binge</td>\n",
       "      <td>3.97</td>\n",
       "    </tr>\n",
       "    <tr>\n",
       "      <th>2</th>\n",
       "      <td>91760162</td>\n",
       "      <td>Chrome</td>\n",
       "      <td>drip</td>\n",
       "      <td>3.55</td>\n",
       "    </tr>\n",
       "    <tr>\n",
       "      <th>3</th>\n",
       "      <td>90748752</td>\n",
       "      <td>Chrome</td>\n",
       "      <td>drip</td>\n",
       "      <td>5.46</td>\n",
       "    </tr>\n",
       "    <tr>\n",
       "      <th>4</th>\n",
       "      <td>66876824</td>\n",
       "      <td>Chrome</td>\n",
       "      <td>binge</td>\n",
       "      <td>3.87</td>\n",
       "    </tr>\n",
       "  </tbody>\n",
       "</table>\n",
       "</div>"
      ],
      "text/plain": [
       "    user_id browser program  hrs_per_week\n",
       "0    769245      IE   binge          4.91\n",
       "1  21650570  Safari   binge          3.97\n",
       "2  91760162  Chrome    drip          3.55\n",
       "3  90748752  Chrome    drip          5.46\n",
       "4  66876824  Chrome   binge          3.87"
      ]
     },
     "execution_count": 4,
     "metadata": {},
     "output_type": "execute_result"
    }
   ],
   "source": [
    "df_engagement.head()"
   ]
  },
  {
   "cell_type": "code",
   "execution_count": 5,
   "id": "e5151ede",
   "metadata": {},
   "outputs": [
    {
     "data": {
      "text/plain": [
       "0             IE\n",
       "1         Safari\n",
       "2         Chrome\n",
       "3         Chrome\n",
       "4         Chrome\n",
       "          ...   \n",
       "88869     Chrome\n",
       "88870     Safari\n",
       "88871     Chrome\n",
       "88872      Opera\n",
       "88873    Firefox\n",
       "Name: browser, Length: 88874, dtype: object"
      ]
     },
     "execution_count": 5,
     "metadata": {},
     "output_type": "execute_result"
    }
   ],
   "source": [
    "df_engagement['browser']"
   ]
  },
  {
   "cell_type": "code",
   "execution_count": 6,
   "id": "89d4db72",
   "metadata": {},
   "outputs": [
    {
     "data": {
      "text/plain": [
       "Chrome     38626\n",
       "IE         19460\n",
       "Firefox    19303\n",
       "Safari      9605\n",
       "Opera       1880\n",
       "Name: browser, dtype: int64"
      ]
     },
     "execution_count": 6,
     "metadata": {},
     "output_type": "execute_result"
    }
   ],
   "source": [
    "df_engagement['browser'].value_counts()"
   ]
  },
  {
   "cell_type": "code",
   "execution_count": 7,
   "id": "a4656288",
   "metadata": {},
   "outputs": [],
   "source": [
    "df_users = pd.read_csv(\"Resources/users.csv\")"
   ]
  },
  {
   "cell_type": "code",
   "execution_count": 8,
   "id": "ffb3fa7d",
   "metadata": {},
   "outputs": [
    {
     "data": {
      "text/plain": [
       "(88874, 3)"
      ]
     },
     "execution_count": 8,
     "metadata": {},
     "output_type": "execute_result"
    }
   ],
   "source": [
    "df_users.shape"
   ]
  },
  {
   "cell_type": "code",
   "execution_count": 11,
   "id": "a4e24a09",
   "metadata": {},
   "outputs": [],
   "source": [
    "# ?"
   ]
  },
  {
   "cell_type": "code",
   "execution_count": 12,
   "id": "c8855932",
   "metadata": {},
   "outputs": [
    {
     "data": {
      "text/plain": [
       "88874"
      ]
     },
     "execution_count": 12,
     "metadata": {},
     "output_type": "execute_result"
    }
   ],
   "source": [
    "df_engagement[\"user_id\"].nunique()"
   ]
  },
  {
   "cell_type": "code",
   "execution_count": 13,
   "id": "7a42aa17",
   "metadata": {},
   "outputs": [
    {
     "data": {
      "text/plain": [
       "88874"
      ]
     },
     "execution_count": 13,
     "metadata": {},
     "output_type": "execute_result"
    }
   ],
   "source": [
    "df_users[\"user_id\"].nunique()"
   ]
  },
  {
   "cell_type": "code",
   "execution_count": 14,
   "id": "08d3adb3",
   "metadata": {},
   "outputs": [],
   "source": [
    "engagement_user_ids=df_engagement[\"user_id\"].unique()"
   ]
  },
  {
   "cell_type": "code",
   "execution_count": 15,
   "id": "d84792e3",
   "metadata": {},
   "outputs": [
    {
     "data": {
      "text/plain": [
       "array([  769245, 21650570, 91760162, 90748752, 66876824], dtype=int64)"
      ]
     },
     "execution_count": 15,
     "metadata": {},
     "output_type": "execute_result"
    }
   ],
   "source": [
    "engagement_user_ids[0:5]"
   ]
  },
  {
   "cell_type": "code",
   "execution_count": 16,
   "id": "aabd4a03",
   "metadata": {},
   "outputs": [],
   "source": [
    "users_user_ids=df_users[\"user_id\"].unique()"
   ]
  },
  {
   "cell_type": "code",
   "execution_count": 17,
   "id": "10d14c8e",
   "metadata": {},
   "outputs": [
    {
     "data": {
      "text/plain": [
       "array([90482091, 41529564, 47570654, 96119909, 57248612], dtype=int64)"
      ]
     },
     "execution_count": 17,
     "metadata": {},
     "output_type": "execute_result"
    }
   ],
   "source": [
    "users_user_ids[0:5]"
   ]
  },
  {
   "cell_type": "code",
   "execution_count": 18,
   "id": "d4883ce0",
   "metadata": {},
   "outputs": [
    {
     "data": {
      "text/plain": [
       "set()"
      ]
     },
     "execution_count": 18,
     "metadata": {},
     "output_type": "execute_result"
    }
   ],
   "source": [
    "set(engagement_user_ids)-set(users_user_ids)"
   ]
  },
  {
   "cell_type": "code",
   "execution_count": 19,
   "id": "5832c0ed",
   "metadata": {},
   "outputs": [],
   "source": [
    "df_users_engagement = pd.merge(df_engagement, df_users)\n"
   ]
  },
  {
   "cell_type": "code",
   "execution_count": 20,
   "id": "a01d9c20",
   "metadata": {},
   "outputs": [
    {
     "data": {
      "text/html": [
       "<div>\n",
       "<style scoped>\n",
       "    .dataframe tbody tr th:only-of-type {\n",
       "        vertical-align: middle;\n",
       "    }\n",
       "\n",
       "    .dataframe tbody tr th {\n",
       "        vertical-align: top;\n",
       "    }\n",
       "\n",
       "    .dataframe thead th {\n",
       "        text-align: right;\n",
       "    }\n",
       "</style>\n",
       "<table border=\"1\" class=\"dataframe\">\n",
       "  <thead>\n",
       "    <tr style=\"text-align: right;\">\n",
       "      <th></th>\n",
       "      <th>user_id</th>\n",
       "      <th>browser</th>\n",
       "      <th>program</th>\n",
       "      <th>hrs_per_week</th>\n",
       "      <th>registration</th>\n",
       "      <th>country</th>\n",
       "    </tr>\n",
       "  </thead>\n",
       "  <tbody>\n",
       "    <tr>\n",
       "      <th>0</th>\n",
       "      <td>769245</td>\n",
       "      <td>IE</td>\n",
       "      <td>binge</td>\n",
       "      <td>4.91</td>\n",
       "      <td>2015-11-20</td>\n",
       "      <td>Germany</td>\n",
       "    </tr>\n",
       "    <tr>\n",
       "      <th>1</th>\n",
       "      <td>21650570</td>\n",
       "      <td>Safari</td>\n",
       "      <td>binge</td>\n",
       "      <td>3.97</td>\n",
       "      <td>2016-01-12</td>\n",
       "      <td>France</td>\n",
       "    </tr>\n",
       "    <tr>\n",
       "      <th>2</th>\n",
       "      <td>91760162</td>\n",
       "      <td>Chrome</td>\n",
       "      <td>drip</td>\n",
       "      <td>3.55</td>\n",
       "      <td>2016-03-21</td>\n",
       "      <td>France</td>\n",
       "    </tr>\n",
       "    <tr>\n",
       "      <th>3</th>\n",
       "      <td>90748752</td>\n",
       "      <td>Chrome</td>\n",
       "      <td>drip</td>\n",
       "      <td>5.46</td>\n",
       "      <td>2016-03-17</td>\n",
       "      <td>France</td>\n",
       "    </tr>\n",
       "    <tr>\n",
       "      <th>4</th>\n",
       "      <td>66876824</td>\n",
       "      <td>Chrome</td>\n",
       "      <td>binge</td>\n",
       "      <td>3.87</td>\n",
       "      <td>2016-04-01</td>\n",
       "      <td>Germany</td>\n",
       "    </tr>\n",
       "    <tr>\n",
       "      <th>...</th>\n",
       "      <td>...</td>\n",
       "      <td>...</td>\n",
       "      <td>...</td>\n",
       "      <td>...</td>\n",
       "      <td>...</td>\n",
       "      <td>...</td>\n",
       "    </tr>\n",
       "    <tr>\n",
       "      <th>88869</th>\n",
       "      <td>77712477</td>\n",
       "      <td>Chrome</td>\n",
       "      <td>drip</td>\n",
       "      <td>3.96</td>\n",
       "      <td>2016-03-01</td>\n",
       "      <td>France</td>\n",
       "    </tr>\n",
       "    <tr>\n",
       "      <th>88870</th>\n",
       "      <td>71724217</td>\n",
       "      <td>Safari</td>\n",
       "      <td>drip</td>\n",
       "      <td>3.73</td>\n",
       "      <td>2016-05-06</td>\n",
       "      <td>Germany</td>\n",
       "    </tr>\n",
       "    <tr>\n",
       "      <th>88871</th>\n",
       "      <td>69155165</td>\n",
       "      <td>Chrome</td>\n",
       "      <td>drip</td>\n",
       "      <td>2.98</td>\n",
       "      <td>2015-11-02</td>\n",
       "      <td>Germany</td>\n",
       "    </tr>\n",
       "    <tr>\n",
       "      <th>88872</th>\n",
       "      <td>34336713</td>\n",
       "      <td>Opera</td>\n",
       "      <td>binge</td>\n",
       "      <td>0.24</td>\n",
       "      <td>2016-06-02</td>\n",
       "      <td>Germany</td>\n",
       "    </tr>\n",
       "    <tr>\n",
       "      <th>88873</th>\n",
       "      <td>7523887</td>\n",
       "      <td>Firefox</td>\n",
       "      <td>binge</td>\n",
       "      <td>4.19</td>\n",
       "      <td>2016-01-21</td>\n",
       "      <td>Germany</td>\n",
       "    </tr>\n",
       "  </tbody>\n",
       "</table>\n",
       "<p>88874 rows × 6 columns</p>\n",
       "</div>"
      ],
      "text/plain": [
       "        user_id  browser program  hrs_per_week registration  country\n",
       "0        769245       IE   binge          4.91   2015-11-20  Germany\n",
       "1      21650570   Safari   binge          3.97   2016-01-12   France\n",
       "2      91760162   Chrome    drip          3.55   2016-03-21   France\n",
       "3      90748752   Chrome    drip          5.46   2016-03-17   France\n",
       "4      66876824   Chrome   binge          3.87   2016-04-01  Germany\n",
       "...         ...      ...     ...           ...          ...      ...\n",
       "88869  77712477   Chrome    drip          3.96   2016-03-01   France\n",
       "88870  71724217   Safari    drip          3.73   2016-05-06  Germany\n",
       "88871  69155165   Chrome    drip          2.98   2015-11-02  Germany\n",
       "88872  34336713    Opera   binge          0.24   2016-06-02  Germany\n",
       "88873   7523887  Firefox   binge          4.19   2016-01-21  Germany\n",
       "\n",
       "[88874 rows x 6 columns]"
      ]
     },
     "execution_count": 20,
     "metadata": {},
     "output_type": "execute_result"
    }
   ],
   "source": [
    "df_users_engagement"
   ]
  },
  {
   "cell_type": "code",
   "execution_count": 24,
   "id": "84ff37c5",
   "metadata": {},
   "outputs": [
    {
     "name": "stdout",
     "output_type": "stream",
     "text": [
      "%pylab is deprecated, use %matplotlib inline and import the required libraries.\n",
      "Populating the interactive namespace from numpy and matplotlib\n"
     ]
    }
   ],
   "source": [
    "\n",
    "import matplotlib.pyplot as plt\n",
    "%matplotlib inline\n",
    "%pylab inline\n",
    "import seaborn as sns"
   ]
  },
  {
   "cell_type": "code",
   "execution_count": 25,
   "id": "ab422185",
   "metadata": {},
   "outputs": [
    {
     "data": {
      "text/plain": [
       "<AxesSubplot:>"
      ]
     },
     "execution_count": 25,
     "metadata": {},
     "output_type": "execute_result"
    },
    {
     "data": {
      "image/png": "[encoded data removed]",
      "text/plain": [
       "<Figure size 1440x720 with 2 Axes>"
      ]
     },
     "metadata": {
      "needs_background": "light"
     },
     "output_type": "display_data"
    }
   ],
   "source": [
    "plt.rcParams['figure.figsize'] = 20,10  # control plot sizeimport seaborn as sns\n",
    "sns.heatmap(df_users_engagement.corr())"
   ]
  },
  {
   "cell_type": "code",
   "execution_count": 17,
   "id": "8ec28b93",
   "metadata": {},
   "outputs": [
    {
     "data": {
      "text/html": [
       "<div>\n",
       "<style scoped>\n",
       "    .dataframe tbody tr th:only-of-type {\n",
       "        vertical-align: middle;\n",
       "    }\n",
       "\n",
       "    .dataframe tbody tr th {\n",
       "        vertical-align: top;\n",
       "    }\n",
       "\n",
       "    .dataframe thead th {\n",
       "        text-align: right;\n",
       "    }\n",
       "</style>\n",
       "<table border=\"1\" class=\"dataframe\">\n",
       "  <thead>\n",
       "    <tr style=\"text-align: right;\">\n",
       "      <th></th>\n",
       "      <th>user_id</th>\n",
       "      <th>browser</th>\n",
       "      <th>program</th>\n",
       "      <th>hrs_per_week</th>\n",
       "    </tr>\n",
       "  </thead>\n",
       "  <tbody>\n",
       "    <tr>\n",
       "      <th>0</th>\n",
       "      <td>769245</td>\n",
       "      <td>IE</td>\n",
       "      <td>binge</td>\n",
       "      <td>4.91</td>\n",
       "    </tr>\n",
       "  </tbody>\n",
       "</table>\n",
       "</div>"
      ],
      "text/plain": [
       "   user_id browser program  hrs_per_week\n",
       "0   769245      IE   binge          4.91"
      ]
     },
     "execution_count": 17,
     "metadata": {},
     "output_type": "execute_result"
    }
   ],
   "source": [
    "df_engagement[df_engagement[\"user_id\"]==769245 ]"
   ]
  },
  {
   "cell_type": "code",
   "execution_count": 25,
   "id": "b5764f92",
   "metadata": {},
   "outputs": [
    {
     "data": {
      "text/html": [
       "<div>\n",
       "<style scoped>\n",
       "    .dataframe tbody tr th:only-of-type {\n",
       "        vertical-align: middle;\n",
       "    }\n",
       "\n",
       "    .dataframe tbody tr th {\n",
       "        vertical-align: top;\n",
       "    }\n",
       "\n",
       "    .dataframe thead th {\n",
       "        text-align: right;\n",
       "    }\n",
       "</style>\n",
       "<table border=\"1\" class=\"dataframe\">\n",
       "  <thead>\n",
       "    <tr style=\"text-align: right;\">\n",
       "      <th></th>\n",
       "      <th>user_id</th>\n",
       "      <th>registration</th>\n",
       "      <th>country</th>\n",
       "    </tr>\n",
       "  </thead>\n",
       "  <tbody>\n",
       "    <tr>\n",
       "      <th>7669</th>\n",
       "      <td>769245</td>\n",
       "      <td>2015-11-20</td>\n",
       "      <td>Germany</td>\n",
       "    </tr>\n",
       "  </tbody>\n",
       "</table>\n",
       "</div>"
      ],
      "text/plain": [
       "      user_id registration  country\n",
       "7669   769245   2015-11-20  Germany"
      ]
     },
     "execution_count": 25,
     "metadata": {},
     "output_type": "execute_result"
    }
   ],
   "source": [
    "df_users[df_users[\"user_id\"]==769245 ]"
   ]
  },
  {
   "cell_type": "code",
   "execution_count": 26,
   "id": "304119f6",
   "metadata": {},
   "outputs": [
    {
     "data": {
      "text/html": [
       "<div>\n",
       "<style scoped>\n",
       "    .dataframe tbody tr th:only-of-type {\n",
       "        vertical-align: middle;\n",
       "    }\n",
       "\n",
       "    .dataframe tbody tr th {\n",
       "        vertical-align: top;\n",
       "    }\n",
       "\n",
       "    .dataframe thead th {\n",
       "        text-align: right;\n",
       "    }\n",
       "</style>\n",
       "<table border=\"1\" class=\"dataframe\">\n",
       "  <thead>\n",
       "    <tr style=\"text-align: right;\">\n",
       "      <th></th>\n",
       "      <th>user_id</th>\n",
       "      <th>browser</th>\n",
       "      <th>program</th>\n",
       "      <th>hrs_per_week</th>\n",
       "      <th>registration</th>\n",
       "      <th>country</th>\n",
       "    </tr>\n",
       "  </thead>\n",
       "  <tbody>\n",
       "    <tr>\n",
       "      <th>0</th>\n",
       "      <td>769245</td>\n",
       "      <td>IE</td>\n",
       "      <td>binge</td>\n",
       "      <td>4.91</td>\n",
       "      <td>2015-11-20</td>\n",
       "      <td>Germany</td>\n",
       "    </tr>\n",
       "  </tbody>\n",
       "</table>\n",
       "</div>"
      ],
      "text/plain": [
       "   user_id browser program  hrs_per_week registration  country\n",
       "0   769245      IE   binge          4.91   2015-11-20  Germany"
      ]
     },
     "execution_count": 26,
     "metadata": {},
     "output_type": "execute_result"
    }
   ],
   "source": [
    "df_users_engagement[df_users_engagement[\"user_id\"]==769245 ]"
   ]
  },
  {
   "cell_type": "code",
   "execution_count": 28,
   "id": "81e3c507",
   "metadata": {},
   "outputs": [
    {
     "data": {
      "text/plain": [
       "user_id         0\n",
       "browser         0\n",
       "program         0\n",
       "hrs_per_week    0\n",
       "registration    0\n",
       "country         0\n",
       "dtype: int64"
      ]
     },
     "execution_count": 28,
     "metadata": {},
     "output_type": "execute_result"
    }
   ],
   "source": [
    "df_users_engagement.isnull().sum()"
   ]
  },
  {
   "cell_type": "code",
   "execution_count": 29,
   "id": "afa9ab7f",
   "metadata": {},
   "outputs": [
    {
     "data": {
      "text/plain": [
       "0        4.91\n",
       "1        3.97\n",
       "2        3.55\n",
       "3        5.46\n",
       "4        3.87\n",
       "         ... \n",
       "88869    3.96\n",
       "88870    3.73\n",
       "88871    2.98\n",
       "88872    0.24\n",
       "88873    4.19\n",
       "Name: hrs_per_week, Length: 88874, dtype: float64"
      ]
     },
     "execution_count": 29,
     "metadata": {},
     "output_type": "execute_result"
    }
   ],
   "source": [
    "df_users_engagement[\"hrs_per_week\"]"
   ]
  },
  {
   "cell_type": "code",
   "execution_count": 31,
   "id": "7ddfce7c",
   "metadata": {},
   "outputs": [
    {
     "data": {
      "text/plain": [
       "64560    17.23\n",
       "8085     16.99\n",
       "13128    16.36\n",
       "50460    16.04\n",
       "54687    16.01\n",
       "Name: hrs_per_week, dtype: float64"
      ]
     },
     "execution_count": 31,
     "metadata": {},
     "output_type": "execute_result"
    }
   ],
   "source": [
    "df_users_engagement[\"hrs_per_week\"].nlargest(5)"
   ]
  },
  {
   "cell_type": "code",
   "execution_count": 32,
   "id": "18643b3b",
   "metadata": {},
   "outputs": [
    {
     "data": {
      "text/plain": [
       "14     0.0\n",
       "49     0.0\n",
       "52     0.0\n",
       "65     0.0\n",
       "131    0.0\n",
       "Name: hrs_per_week, dtype: float64"
      ]
     },
     "execution_count": 32,
     "metadata": {},
     "output_type": "execute_result"
    }
   ],
   "source": [
    "df_users_engagement[\"hrs_per_week\"].nsmallest(5)"
   ]
  },
  {
   "cell_type": "code",
   "execution_count": 33,
   "id": "d77436d1",
   "metadata": {},
   "outputs": [
    {
     "data": {
      "text/html": [
       "<div>\n",
       "<style scoped>\n",
       "    .dataframe tbody tr th:only-of-type {\n",
       "        vertical-align: middle;\n",
       "    }\n",
       "\n",
       "    .dataframe tbody tr th {\n",
       "        vertical-align: top;\n",
       "    }\n",
       "\n",
       "    .dataframe thead th {\n",
       "        text-align: right;\n",
       "    }\n",
       "</style>\n",
       "<table border=\"1\" class=\"dataframe\">\n",
       "  <thead>\n",
       "    <tr style=\"text-align: right;\">\n",
       "      <th></th>\n",
       "      <th>user_id</th>\n",
       "      <th>browser</th>\n",
       "      <th>program</th>\n",
       "      <th>hrs_per_week</th>\n",
       "      <th>registration</th>\n",
       "      <th>country</th>\n",
       "    </tr>\n",
       "  </thead>\n",
       "  <tbody>\n",
       "    <tr>\n",
       "      <th>0</th>\n",
       "      <td>769245</td>\n",
       "      <td>IE</td>\n",
       "      <td>binge</td>\n",
       "      <td>4.91</td>\n",
       "      <td>2015-11-20</td>\n",
       "      <td>Germany</td>\n",
       "    </tr>\n",
       "    <tr>\n",
       "      <th>1</th>\n",
       "      <td>21650570</td>\n",
       "      <td>Safari</td>\n",
       "      <td>binge</td>\n",
       "      <td>3.97</td>\n",
       "      <td>2016-01-12</td>\n",
       "      <td>France</td>\n",
       "    </tr>\n",
       "    <tr>\n",
       "      <th>2</th>\n",
       "      <td>91760162</td>\n",
       "      <td>Chrome</td>\n",
       "      <td>drip</td>\n",
       "      <td>3.55</td>\n",
       "      <td>2016-03-21</td>\n",
       "      <td>France</td>\n",
       "    </tr>\n",
       "    <tr>\n",
       "      <th>3</th>\n",
       "      <td>90748752</td>\n",
       "      <td>Chrome</td>\n",
       "      <td>drip</td>\n",
       "      <td>5.46</td>\n",
       "      <td>2016-03-17</td>\n",
       "      <td>France</td>\n",
       "    </tr>\n",
       "    <tr>\n",
       "      <th>4</th>\n",
       "      <td>66876824</td>\n",
       "      <td>Chrome</td>\n",
       "      <td>binge</td>\n",
       "      <td>3.87</td>\n",
       "      <td>2016-04-01</td>\n",
       "      <td>Germany</td>\n",
       "    </tr>\n",
       "    <tr>\n",
       "      <th>...</th>\n",
       "      <td>...</td>\n",
       "      <td>...</td>\n",
       "      <td>...</td>\n",
       "      <td>...</td>\n",
       "      <td>...</td>\n",
       "      <td>...</td>\n",
       "    </tr>\n",
       "    <tr>\n",
       "      <th>88869</th>\n",
       "      <td>77712477</td>\n",
       "      <td>Chrome</td>\n",
       "      <td>drip</td>\n",
       "      <td>3.96</td>\n",
       "      <td>2016-03-01</td>\n",
       "      <td>France</td>\n",
       "    </tr>\n",
       "    <tr>\n",
       "      <th>88870</th>\n",
       "      <td>71724217</td>\n",
       "      <td>Safari</td>\n",
       "      <td>drip</td>\n",
       "      <td>3.73</td>\n",
       "      <td>2016-05-06</td>\n",
       "      <td>Germany</td>\n",
       "    </tr>\n",
       "    <tr>\n",
       "      <th>88871</th>\n",
       "      <td>69155165</td>\n",
       "      <td>Chrome</td>\n",
       "      <td>drip</td>\n",
       "      <td>2.98</td>\n",
       "      <td>2015-11-02</td>\n",
       "      <td>Germany</td>\n",
       "    </tr>\n",
       "    <tr>\n",
       "      <th>88872</th>\n",
       "      <td>34336713</td>\n",
       "      <td>Opera</td>\n",
       "      <td>binge</td>\n",
       "      <td>0.24</td>\n",
       "      <td>2016-06-02</td>\n",
       "      <td>Germany</td>\n",
       "    </tr>\n",
       "    <tr>\n",
       "      <th>88873</th>\n",
       "      <td>7523887</td>\n",
       "      <td>Firefox</td>\n",
       "      <td>binge</td>\n",
       "      <td>4.19</td>\n",
       "      <td>2016-01-21</td>\n",
       "      <td>Germany</td>\n",
       "    </tr>\n",
       "  </tbody>\n",
       "</table>\n",
       "<p>88874 rows × 6 columns</p>\n",
       "</div>"
      ],
      "text/plain": [
       "        user_id  browser program  hrs_per_week registration  country\n",
       "0        769245       IE   binge          4.91   2015-11-20  Germany\n",
       "1      21650570   Safari   binge          3.97   2016-01-12   France\n",
       "2      91760162   Chrome    drip          3.55   2016-03-21   France\n",
       "3      90748752   Chrome    drip          5.46   2016-03-17   France\n",
       "4      66876824   Chrome   binge          3.87   2016-04-01  Germany\n",
       "...         ...      ...     ...           ...          ...      ...\n",
       "88869  77712477   Chrome    drip          3.96   2016-03-01   France\n",
       "88870  71724217   Safari    drip          3.73   2016-05-06  Germany\n",
       "88871  69155165   Chrome    drip          2.98   2015-11-02  Germany\n",
       "88872  34336713    Opera   binge          0.24   2016-06-02  Germany\n",
       "88873   7523887  Firefox   binge          4.19   2016-01-21  Germany\n",
       "\n",
       "[88874 rows x 6 columns]"
      ]
     },
     "execution_count": 33,
     "metadata": {},
     "output_type": "execute_result"
    }
   ],
   "source": [
    "df_users_engagement"
   ]
  },
  {
   "cell_type": "code",
   "execution_count": 42,
   "id": "3b32c653",
   "metadata": {},
   "outputs": [],
   "source": [
    "import pandas as pd"
   ]
  },
  {
   "cell_type": "code",
   "execution_count": null,
   "id": "a3d1dbe6",
   "metadata": {},
   "outputs": [],
   "source": []
  },
  {
   "cell_type": "code",
   "execution_count": 49,
   "id": "d4667156",
   "metadata": {},
   "outputs": [],
   "source": [
    "df_users_engagement['program'].replace(['binge', 'drip'],\n",
    "                        [0, 1], inplace=True)"
   ]
  },
  {
   "cell_type": "code",
   "execution_count": 50,
   "id": "495ddaaf",
   "metadata": {},
   "outputs": [
    {
     "data": {
      "text/html": [
       "<div>\n",
       "<style scoped>\n",
       "    .dataframe tbody tr th:only-of-type {\n",
       "        vertical-align: middle;\n",
       "    }\n",
       "\n",
       "    .dataframe tbody tr th {\n",
       "        vertical-align: top;\n",
       "    }\n",
       "\n",
       "    .dataframe thead th {\n",
       "        text-align: right;\n",
       "    }\n",
       "</style>\n",
       "<table border=\"1\" class=\"dataframe\">\n",
       "  <thead>\n",
       "    <tr style=\"text-align: right;\">\n",
       "      <th></th>\n",
       "      <th>user_id</th>\n",
       "      <th>browser</th>\n",
       "      <th>program</th>\n",
       "      <th>hrs_per_week</th>\n",
       "      <th>registration</th>\n",
       "      <th>country</th>\n",
       "    </tr>\n",
       "  </thead>\n",
       "  <tbody>\n",
       "    <tr>\n",
       "      <th>0</th>\n",
       "      <td>769245</td>\n",
       "      <td>IE</td>\n",
       "      <td>0</td>\n",
       "      <td>4.91</td>\n",
       "      <td>2015-11-20</td>\n",
       "      <td>Germany</td>\n",
       "    </tr>\n",
       "    <tr>\n",
       "      <th>1</th>\n",
       "      <td>21650570</td>\n",
       "      <td>Safari</td>\n",
       "      <td>0</td>\n",
       "      <td>3.97</td>\n",
       "      <td>2016-01-12</td>\n",
       "      <td>France</td>\n",
       "    </tr>\n",
       "    <tr>\n",
       "      <th>2</th>\n",
       "      <td>91760162</td>\n",
       "      <td>Chrome</td>\n",
       "      <td>1</td>\n",
       "      <td>3.55</td>\n",
       "      <td>2016-03-21</td>\n",
       "      <td>France</td>\n",
       "    </tr>\n",
       "    <tr>\n",
       "      <th>3</th>\n",
       "      <td>90748752</td>\n",
       "      <td>Chrome</td>\n",
       "      <td>1</td>\n",
       "      <td>5.46</td>\n",
       "      <td>2016-03-17</td>\n",
       "      <td>France</td>\n",
       "    </tr>\n",
       "    <tr>\n",
       "      <th>4</th>\n",
       "      <td>66876824</td>\n",
       "      <td>Chrome</td>\n",
       "      <td>0</td>\n",
       "      <td>3.87</td>\n",
       "      <td>2016-04-01</td>\n",
       "      <td>Germany</td>\n",
       "    </tr>\n",
       "    <tr>\n",
       "      <th>...</th>\n",
       "      <td>...</td>\n",
       "      <td>...</td>\n",
       "      <td>...</td>\n",
       "      <td>...</td>\n",
       "      <td>...</td>\n",
       "      <td>...</td>\n",
       "    </tr>\n",
       "    <tr>\n",
       "      <th>88869</th>\n",
       "      <td>77712477</td>\n",
       "      <td>Chrome</td>\n",
       "      <td>1</td>\n",
       "      <td>3.96</td>\n",
       "      <td>2016-03-01</td>\n",
       "      <td>France</td>\n",
       "    </tr>\n",
       "    <tr>\n",
       "      <th>88870</th>\n",
       "      <td>71724217</td>\n",
       "      <td>Safari</td>\n",
       "      <td>1</td>\n",
       "      <td>3.73</td>\n",
       "      <td>2016-05-06</td>\n",
       "      <td>Germany</td>\n",
       "    </tr>\n",
       "    <tr>\n",
       "      <th>88871</th>\n",
       "      <td>69155165</td>\n",
       "      <td>Chrome</td>\n",
       "      <td>1</td>\n",
       "      <td>2.98</td>\n",
       "      <td>2015-11-02</td>\n",
       "      <td>Germany</td>\n",
       "    </tr>\n",
       "    <tr>\n",
       "      <th>88872</th>\n",
       "      <td>34336713</td>\n",
       "      <td>Opera</td>\n",
       "      <td>0</td>\n",
       "      <td>0.24</td>\n",
       "      <td>2016-06-02</td>\n",
       "      <td>Germany</td>\n",
       "    </tr>\n",
       "    <tr>\n",
       "      <th>88873</th>\n",
       "      <td>7523887</td>\n",
       "      <td>Firefox</td>\n",
       "      <td>0</td>\n",
       "      <td>4.19</td>\n",
       "      <td>2016-01-21</td>\n",
       "      <td>Germany</td>\n",
       "    </tr>\n",
       "  </tbody>\n",
       "</table>\n",
       "<p>88874 rows × 6 columns</p>\n",
       "</div>"
      ],
      "text/plain": [
       "        user_id  browser  program  hrs_per_week registration  country\n",
       "0        769245       IE        0          4.91   2015-11-20  Germany\n",
       "1      21650570   Safari        0          3.97   2016-01-12   France\n",
       "2      91760162   Chrome        1          3.55   2016-03-21   France\n",
       "3      90748752   Chrome        1          5.46   2016-03-17   France\n",
       "4      66876824   Chrome        0          3.87   2016-04-01  Germany\n",
       "...         ...      ...      ...           ...          ...      ...\n",
       "88869  77712477   Chrome        1          3.96   2016-03-01   France\n",
       "88870  71724217   Safari        1          3.73   2016-05-06  Germany\n",
       "88871  69155165   Chrome        1          2.98   2015-11-02  Germany\n",
       "88872  34336713    Opera        0          0.24   2016-06-02  Germany\n",
       "88873   7523887  Firefox        0          4.19   2016-01-21  Germany\n",
       "\n",
       "[88874 rows x 6 columns]"
      ]
     },
     "execution_count": 50,
     "metadata": {},
     "output_type": "execute_result"
    }
   ],
   "source": [
    "df_users_engagement"
   ]
  },
  {
   "cell_type": "code",
   "execution_count": 51,
   "id": "1e4006fe",
   "metadata": {},
   "outputs": [],
   "source": [
    "df_users_engagement['browser'].replace(['IE', 'Safari','Chrome','Opera','Firefox'],\n",
    "                        [0, 1, 2, 3, 4], inplace=True)"
   ]
  },
  {
   "cell_type": "code",
   "execution_count": 52,
   "id": "0d568367",
   "metadata": {},
   "outputs": [
    {
     "data": {
      "text/html": [
       "<div>\n",
       "<style scoped>\n",
       "    .dataframe tbody tr th:only-of-type {\n",
       "        vertical-align: middle;\n",
       "    }\n",
       "\n",
       "    .dataframe tbody tr th {\n",
       "        vertical-align: top;\n",
       "    }\n",
       "\n",
       "    .dataframe thead th {\n",
       "        text-align: right;\n",
       "    }\n",
       "</style>\n",
       "<table border=\"1\" class=\"dataframe\">\n",
       "  <thead>\n",
       "    <tr style=\"text-align: right;\">\n",
       "      <th></th>\n",
       "      <th>user_id</th>\n",
       "      <th>browser</th>\n",
       "      <th>program</th>\n",
       "      <th>hrs_per_week</th>\n",
       "      <th>registration</th>\n",
       "      <th>country</th>\n",
       "    </tr>\n",
       "  </thead>\n",
       "  <tbody>\n",
       "    <tr>\n",
       "      <th>0</th>\n",
       "      <td>769245</td>\n",
       "      <td>0</td>\n",
       "      <td>0</td>\n",
       "      <td>4.91</td>\n",
       "      <td>2015-11-20</td>\n",
       "      <td>Germany</td>\n",
       "    </tr>\n",
       "    <tr>\n",
       "      <th>1</th>\n",
       "      <td>21650570</td>\n",
       "      <td>1</td>\n",
       "      <td>0</td>\n",
       "      <td>3.97</td>\n",
       "      <td>2016-01-12</td>\n",
       "      <td>France</td>\n",
       "    </tr>\n",
       "    <tr>\n",
       "      <th>2</th>\n",
       "      <td>91760162</td>\n",
       "      <td>2</td>\n",
       "      <td>1</td>\n",
       "      <td>3.55</td>\n",
       "      <td>2016-03-21</td>\n",
       "      <td>France</td>\n",
       "    </tr>\n",
       "    <tr>\n",
       "      <th>3</th>\n",
       "      <td>90748752</td>\n",
       "      <td>2</td>\n",
       "      <td>1</td>\n",
       "      <td>5.46</td>\n",
       "      <td>2016-03-17</td>\n",
       "      <td>France</td>\n",
       "    </tr>\n",
       "    <tr>\n",
       "      <th>4</th>\n",
       "      <td>66876824</td>\n",
       "      <td>2</td>\n",
       "      <td>0</td>\n",
       "      <td>3.87</td>\n",
       "      <td>2016-04-01</td>\n",
       "      <td>Germany</td>\n",
       "    </tr>\n",
       "    <tr>\n",
       "      <th>...</th>\n",
       "      <td>...</td>\n",
       "      <td>...</td>\n",
       "      <td>...</td>\n",
       "      <td>...</td>\n",
       "      <td>...</td>\n",
       "      <td>...</td>\n",
       "    </tr>\n",
       "    <tr>\n",
       "      <th>88869</th>\n",
       "      <td>77712477</td>\n",
       "      <td>2</td>\n",
       "      <td>1</td>\n",
       "      <td>3.96</td>\n",
       "      <td>2016-03-01</td>\n",
       "      <td>France</td>\n",
       "    </tr>\n",
       "    <tr>\n",
       "      <th>88870</th>\n",
       "      <td>71724217</td>\n",
       "      <td>1</td>\n",
       "      <td>1</td>\n",
       "      <td>3.73</td>\n",
       "      <td>2016-05-06</td>\n",
       "      <td>Germany</td>\n",
       "    </tr>\n",
       "    <tr>\n",
       "      <th>88871</th>\n",
       "      <td>69155165</td>\n",
       "      <td>2</td>\n",
       "      <td>1</td>\n",
       "      <td>2.98</td>\n",
       "      <td>2015-11-02</td>\n",
       "      <td>Germany</td>\n",
       "    </tr>\n",
       "    <tr>\n",
       "      <th>88872</th>\n",
       "      <td>34336713</td>\n",
       "      <td>3</td>\n",
       "      <td>0</td>\n",
       "      <td>0.24</td>\n",
       "      <td>2016-06-02</td>\n",
       "      <td>Germany</td>\n",
       "    </tr>\n",
       "    <tr>\n",
       "      <th>88873</th>\n",
       "      <td>7523887</td>\n",
       "      <td>4</td>\n",
       "      <td>0</td>\n",
       "      <td>4.19</td>\n",
       "      <td>2016-01-21</td>\n",
       "      <td>Germany</td>\n",
       "    </tr>\n",
       "  </tbody>\n",
       "</table>\n",
       "<p>88874 rows × 6 columns</p>\n",
       "</div>"
      ],
      "text/plain": [
       "        user_id  browser  program  hrs_per_week registration  country\n",
       "0        769245        0        0          4.91   2015-11-20  Germany\n",
       "1      21650570        1        0          3.97   2016-01-12   France\n",
       "2      91760162        2        1          3.55   2016-03-21   France\n",
       "3      90748752        2        1          5.46   2016-03-17   France\n",
       "4      66876824        2        0          3.87   2016-04-01  Germany\n",
       "...         ...      ...      ...           ...          ...      ...\n",
       "88869  77712477        2        1          3.96   2016-03-01   France\n",
       "88870  71724217        1        1          3.73   2016-05-06  Germany\n",
       "88871  69155165        2        1          2.98   2015-11-02  Germany\n",
       "88872  34336713        3        0          0.24   2016-06-02  Germany\n",
       "88873   7523887        4        0          4.19   2016-01-21  Germany\n",
       "\n",
       "[88874 rows x 6 columns]"
      ]
     },
     "execution_count": 52,
     "metadata": {},
     "output_type": "execute_result"
    }
   ],
   "source": [
    "df_users_engagement"
   ]
  },
  {
   "cell_type": "code",
   "execution_count": 53,
   "id": "a167dd66",
   "metadata": {},
   "outputs": [],
   "source": [
    "df_users_engagement['country'].replace(['Germany', 'France','Italy'],\n",
    "                        [0, 1, 2], inplace=True)"
   ]
  },
  {
   "cell_type": "code",
   "execution_count": 54,
   "id": "309bbf75",
   "metadata": {
    "scrolled": true
   },
   "outputs": [
    {
     "data": {
      "text/html": [
       "<div>\n",
       "<style scoped>\n",
       "    .dataframe tbody tr th:only-of-type {\n",
       "        vertical-align: middle;\n",
       "    }\n",
       "\n",
       "    .dataframe tbody tr th {\n",
       "        vertical-align: top;\n",
       "    }\n",
       "\n",
       "    .dataframe thead th {\n",
       "        text-align: right;\n",
       "    }\n",
       "</style>\n",
       "<table border=\"1\" class=\"dataframe\">\n",
       "  <thead>\n",
       "    <tr style=\"text-align: right;\">\n",
       "      <th></th>\n",
       "      <th>user_id</th>\n",
       "      <th>browser</th>\n",
       "      <th>program</th>\n",
       "      <th>hrs_per_week</th>\n",
       "      <th>registration</th>\n",
       "      <th>country</th>\n",
       "    </tr>\n",
       "  </thead>\n",
       "  <tbody>\n",
       "    <tr>\n",
       "      <th>0</th>\n",
       "      <td>769245</td>\n",
       "      <td>0</td>\n",
       "      <td>0</td>\n",
       "      <td>4.91</td>\n",
       "      <td>2015-11-20</td>\n",
       "      <td>0</td>\n",
       "    </tr>\n",
       "    <tr>\n",
       "      <th>1</th>\n",
       "      <td>21650570</td>\n",
       "      <td>1</td>\n",
       "      <td>0</td>\n",
       "      <td>3.97</td>\n",
       "      <td>2016-01-12</td>\n",
       "      <td>1</td>\n",
       "    </tr>\n",
       "    <tr>\n",
       "      <th>2</th>\n",
       "      <td>91760162</td>\n",
       "      <td>2</td>\n",
       "      <td>1</td>\n",
       "      <td>3.55</td>\n",
       "      <td>2016-03-21</td>\n",
       "      <td>1</td>\n",
       "    </tr>\n",
       "    <tr>\n",
       "      <th>3</th>\n",
       "      <td>90748752</td>\n",
       "      <td>2</td>\n",
       "      <td>1</td>\n",
       "      <td>5.46</td>\n",
       "      <td>2016-03-17</td>\n",
       "      <td>1</td>\n",
       "    </tr>\n",
       "    <tr>\n",
       "      <th>4</th>\n",
       "      <td>66876824</td>\n",
       "      <td>2</td>\n",
       "      <td>0</td>\n",
       "      <td>3.87</td>\n",
       "      <td>2016-04-01</td>\n",
       "      <td>0</td>\n",
       "    </tr>\n",
       "    <tr>\n",
       "      <th>...</th>\n",
       "      <td>...</td>\n",
       "      <td>...</td>\n",
       "      <td>...</td>\n",
       "      <td>...</td>\n",
       "      <td>...</td>\n",
       "      <td>...</td>\n",
       "    </tr>\n",
       "    <tr>\n",
       "      <th>88869</th>\n",
       "      <td>77712477</td>\n",
       "      <td>2</td>\n",
       "      <td>1</td>\n",
       "      <td>3.96</td>\n",
       "      <td>2016-03-01</td>\n",
       "      <td>1</td>\n",
       "    </tr>\n",
       "    <tr>\n",
       "      <th>88870</th>\n",
       "      <td>71724217</td>\n",
       "      <td>1</td>\n",
       "      <td>1</td>\n",
       "      <td>3.73</td>\n",
       "      <td>2016-05-06</td>\n",
       "      <td>0</td>\n",
       "    </tr>\n",
       "    <tr>\n",
       "      <th>88871</th>\n",
       "      <td>69155165</td>\n",
       "      <td>2</td>\n",
       "      <td>1</td>\n",
       "      <td>2.98</td>\n",
       "      <td>2015-11-02</td>\n",
       "      <td>0</td>\n",
       "    </tr>\n",
       "    <tr>\n",
       "      <th>88872</th>\n",
       "      <td>34336713</td>\n",
       "      <td>3</td>\n",
       "      <td>0</td>\n",
       "      <td>0.24</td>\n",
       "      <td>2016-06-02</td>\n",
       "      <td>0</td>\n",
       "    </tr>\n",
       "    <tr>\n",
       "      <th>88873</th>\n",
       "      <td>7523887</td>\n",
       "      <td>4</td>\n",
       "      <td>0</td>\n",
       "      <td>4.19</td>\n",
       "      <td>2016-01-21</td>\n",
       "      <td>0</td>\n",
       "    </tr>\n",
       "  </tbody>\n",
       "</table>\n",
       "<p>88874 rows × 6 columns</p>\n",
       "</div>"
      ],
      "text/plain": [
       "        user_id  browser  program  hrs_per_week registration  country\n",
       "0        769245        0        0          4.91   2015-11-20        0\n",
       "1      21650570        1        0          3.97   2016-01-12        1\n",
       "2      91760162        2        1          3.55   2016-03-21        1\n",
       "3      90748752        2        1          5.46   2016-03-17        1\n",
       "4      66876824        2        0          3.87   2016-04-01        0\n",
       "...         ...      ...      ...           ...          ...      ...\n",
       "88869  77712477        2        1          3.96   2016-03-01        1\n",
       "88870  71724217        1        1          3.73   2016-05-06        0\n",
       "88871  69155165        2        1          2.98   2015-11-02        0\n",
       "88872  34336713        3        0          0.24   2016-06-02        0\n",
       "88873   7523887        4        0          4.19   2016-01-21        0\n",
       "\n",
       "[88874 rows x 6 columns]"
      ]
     },
     "execution_count": 54,
     "metadata": {},
     "output_type": "execute_result"
    }
   ],
   "source": [
    "df_users_engagement"
   ]
  },
  {
   "cell_type": "code",
   "execution_count": 63,
   "id": "64020562",
   "metadata": {},
   "outputs": [
    {
     "data": {
      "image/png": "[encoded data removed]",
      "text/plain": [
       "<Figure size 432x288 with 1 Axes>"
      ]
     },
     "metadata": {
      "needs_background": "light"
     },
     "output_type": "display_data"
    }
   ],
   "source": [
    "import numpy as np\n",
    "import matplotlib.pyplot as plt\n",
    "\n",
    "# Generating some random data\n",
    "# for an example\n",
    "data = np.random.normal(170, 10, 250)\n",
    "\n",
    "# Plotting the histogram.\n",
    "plt.hist(data, bins=25, density=True, alpha=0.6, color='b')\n",
    "\n",
    "plt.show()\n",
    "\n"
   ]
  },
  {
   "cell_type": "code",
   "execution_count": 64,
   "id": "121d57b0",
   "metadata": {},
   "outputs": [
    {
     "data": {
      "image/png": "[encoded data removed]",
      "text/plain": [
       "<Figure size 432x288 with 1 Axes>"
      ]
     },
     "metadata": {
      "needs_background": "light"
     },
     "output_type": "display_data"
    }
   ],
   "source": [
    "import numpy as np\n",
    "import matplotlib.pyplot as plt\n",
    "from scipy.stats import norm\n",
    "import statistics\n",
    "\t\n",
    "# Plot between -30 and 30 with\n",
    "# 0.1 steps.\n",
    "x_axis = np.arange(-30, 30, 0.1)\n",
    "\t\n",
    "# Calculating mean and standard\n",
    "# deviation\n",
    "mean = statistics.mean(x_axis)\n",
    "sd = statistics.stdev(x_axis)\n",
    "\t\n",
    "plt.plot(x_axis, norm.pdf(x_axis, mean, sd))\n",
    "plt.show()\n",
    "\n"
   ]
  },
  {
   "cell_type": "code",
   "execution_count": 65,
   "id": "bd3bbab7",
   "metadata": {},
   "outputs": [
    {
     "data": {
      "image/png": "[encoded data removed]",
      "text/plain": [
       "<Figure size 432x288 with 1 Axes>"
      ]
     },
     "metadata": {
      "needs_background": "light"
     },
     "output_type": "display_data"
    }
   ],
   "source": [
    "import numpy as np\n",
    "from scipy.stats import norm\n",
    "import matplotlib.pyplot as plt\n",
    "\n",
    "# Generate some data for this\n",
    "# demonstration.\n",
    "data = np.random.normal(170, 10, 250)\n",
    "\n",
    "# Fit a normal distribution to\n",
    "# the data:\n",
    "# mean and standard deviation\n",
    "mu, std = norm.fit(data)\n",
    "\n",
    "# Plot the histogram.\n",
    "plt.hist(data, bins=25, density=True, alpha=0.6, color='b')\n",
    "\n",
    "# Plot the PDF.\n",
    "xmin, xmax = plt.xlim()\n",
    "x = np.linspace(xmin, xmax, 100)\n",
    "p = norm.pdf(x, mu, std)\n",
    "\n",
    "plt.plot(x, p, 'k', linewidth=2)\n",
    "title = \"Fit Values: {:.2f} and {:.2f}\".format(mu, std)\n",
    "plt.title(title)\n",
    "\n",
    "plt.show()\n",
    "\n"
   ]
  },
  {
   "cell_type": "code",
   "execution_count": null,
   "id": "aa10803f",
   "metadata": {},
   "outputs": [],
   "source": []
  }
 ],
 "metadata": {
  "kernelspec": {
   "display_name": "Python 3 (ipykernel)",
   "language": "python",
   "name": "python3"
  },
  "language_info": {
   "codemirror_mode": {
    "name": "ipython",
    "version": 3
   },
   "file_extension": ".py",
   "mimetype": "text/x-python",
   "name": "python",
   "nbconvert_exporter": "python",
   "pygments_lexer": "ipython3",
   "version": "3.9.12"
  }
 },
 "nbformat": 4,
 "nbformat_minor": 5
}
